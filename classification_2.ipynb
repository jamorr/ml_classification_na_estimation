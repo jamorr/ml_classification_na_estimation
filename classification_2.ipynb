{
 "cells": [
  {
   "cell_type": "code",
   "execution_count": 1,
   "metadata": {},
   "outputs": [
    {
     "name": "stderr",
     "output_type": "stream",
     "text": [
      "Intel(R) Extension for Scikit-learn* enabled (https://github.com/intel/scikit-learn-intelex)\n"
     ]
    }
   ],
   "source": [
    "import pandas as pd\n",
    "import numpy as np\n",
    "import seaborn as sns\n",
    "import matplotlib.pyplot as plt\n",
    "from utils import read_classification_dataset, features_histograms_mean_std\n",
    "# import sklearn\n",
    "from sklearnex import patch_sklearn\n",
    "from sklearn.calibration import LinearSVC\n",
    "from sklearn.ensemble import RandomForestClassifier\n",
    "from sklearn.feature_selection import SelectFromModel\n",
    "from sklearn.pipeline import Pipeline\n",
    "from sklearn.metrics import classification_report\n",
    "from sklearn.neighbors import KNeighborsClassifier\n",
    "from sklearn.preprocessing import MinMaxScaler, StandardScaler\n",
    "from sklearn.model_selection import cross_val_score\n",
    "from sklearn.experimental import enable_iterative_imputer\n",
    "from sklearn.impute import IterativeImputer, SimpleImputer, KNNImputer\n",
    "from sklearn.decomposition import PCA\n",
    "from sklearn.model_selection import GridSearchCV\n",
    "\n",
    "from kneed import KneeLocator\n",
    "\n",
    "patch_sklearn()"
   ]
  },
  {
   "cell_type": "code",
   "execution_count": 6,
   "metadata": {},
   "outputs": [
    {
     "name": "stdout",
     "output_type": "stream",
     "text": [
      "c:\\Users\\Morri\\Documents\\Notebooks\\ML\\Project\n",
      "0.8278571428571428\n",
      "{'Imputer': KNNImputer(weights='distance'), 'Imputer__n_neighbors': 1, 'KNN': KNeighborsClassifier(n_jobs=-1, weights='distance'), 'KNN__n_neighbors': 7}\n"
     ]
    }
   ],
   "source": [
    "model_2 = Pipeline([\n",
    "      ('Scaler', StandardScaler()),\n",
    "      ('Imputer', KNNImputer()),\n",
    "      ('PCA', PCA(n_components=18)),\n",
    "      ('KNN', KNeighborsClassifier())\n",
    "    ])\n",
    "\n",
    "param_grid_2 = [\n",
    "    {\n",
    "        \"Imputer\": [KNNImputer(weights='distance')],\n",
    "        \"Imputer__n_neighbors\":[1,3,7,21],\n",
    "        \"KNN__n_neighbors\":[1,3,7,21],\n",
    "        \"KNN\": [KNeighborsClassifier(weights=\"distance\", n_jobs=-1)]\n",
    "    },\n",
    "]\n",
    "grid_2 = GridSearchCV(model_2, param_grid_2, scoring=\"f1_weighted\")\n",
    "train, target, test = read_classification_dataset(2)\n",
    "X, y = train.values, target.values.flatten()\n",
    "grid_2.fit(X, y)\n",
    "print(grid_2.best_score_)\n",
    "print(grid_2.best_params_)\n",
    "best_model_2 = grid_2.best_estimator_\n"
   ]
  },
  {
   "cell_type": "code",
   "execution_count": 16,
   "metadata": {},
   "outputs": [
    {
     "data": {
      "text/plain": [
       "[(1,\n",
       "  0.8278571428571428,\n",
       "  {'Imputer': KNNImputer(weights='distance'),\n",
       "   'Imputer__n_neighbors': 1,\n",
       "   'KNN': KNeighborsClassifier(n_jobs=-1, weights='distance'),\n",
       "   'KNN__n_neighbors': 7}),\n",
       " (2,\n",
       "  0.8158571428571427,\n",
       "  {'Imputer': KNNImputer(weights='distance'),\n",
       "   'Imputer__n_neighbors': 21,\n",
       "   'KNN': KNeighborsClassifier(n_jobs=-1, weights='distance'),\n",
       "   'KNN__n_neighbors': 7}),\n",
       " (3,\n",
       "  0.7997142857142857,\n",
       "  {'Imputer': KNNImputer(weights='distance'),\n",
       "   'Imputer__n_neighbors': 1,\n",
       "   'KNN': KNeighborsClassifier(n_jobs=-1, weights='distance'),\n",
       "   'KNN__n_neighbors': 3}),\n",
       " (4,\n",
       "  0.7900476190476191,\n",
       "  {'Imputer': KNNImputer(weights='distance'),\n",
       "   'Imputer__n_neighbors': 7,\n",
       "   'KNN': KNeighborsClassifier(n_jobs=-1, weights='distance'),\n",
       "   'KNN__n_neighbors': 3}),\n",
       " (5,\n",
       "  0.7877142857142856,\n",
       "  {'Imputer': KNNImputer(weights='distance'),\n",
       "   'Imputer__n_neighbors': 3,\n",
       "   'KNN': KNeighborsClassifier(n_jobs=-1, weights='distance'),\n",
       "   'KNN__n_neighbors': 3}),\n",
       " (6,\n",
       "  0.7862380952380952,\n",
       "  {'Imputer': KNNImputer(weights='distance'),\n",
       "   'Imputer__n_neighbors': 3,\n",
       "   'KNN': KNeighborsClassifier(n_jobs=-1, weights='distance'),\n",
       "   'KNN__n_neighbors': 7}),\n",
       " (7,\n",
       "  0.7813809523809525,\n",
       "  {'Imputer': KNNImputer(weights='distance'),\n",
       "   'Imputer__n_neighbors': 21,\n",
       "   'KNN': KNeighborsClassifier(n_jobs=-1, weights='distance'),\n",
       "   'KNN__n_neighbors': 3}),\n",
       " (8,\n",
       "  0.7797619047619047,\n",
       "  {'Imputer': KNNImputer(weights='distance'),\n",
       "   'Imputer__n_neighbors': 7,\n",
       "   'KNN': KNeighborsClassifier(n_jobs=-1, weights='distance'),\n",
       "   'KNN__n_neighbors': 7}),\n",
       " (9,\n",
       "  0.7764285714285712,\n",
       "  {'Imputer': KNNImputer(weights='distance'),\n",
       "   'Imputer__n_neighbors': 1,\n",
       "   'KNN': KNeighborsClassifier(n_jobs=-1, weights='distance'),\n",
       "   'KNN__n_neighbors': 21}),\n",
       " (9,\n",
       "  0.7764285714285712,\n",
       "  {'Imputer': KNNImputer(weights='distance'),\n",
       "   'Imputer__n_neighbors': 3,\n",
       "   'KNN': KNeighborsClassifier(n_jobs=-1, weights='distance'),\n",
       "   'KNN__n_neighbors': 21}),\n",
       " (11,\n",
       "  0.7763809523809524,\n",
       "  {'Imputer': KNNImputer(weights='distance'),\n",
       "   'Imputer__n_neighbors': 1,\n",
       "   'KNN': KNeighborsClassifier(n_jobs=-1, weights='distance'),\n",
       "   'KNN__n_neighbors': 1}),\n",
       " (11,\n",
       "  0.7763809523809524,\n",
       "  {'Imputer': KNNImputer(weights='distance'),\n",
       "   'Imputer__n_neighbors': 3,\n",
       "   'KNN': KNeighborsClassifier(n_jobs=-1, weights='distance'),\n",
       "   'KNN__n_neighbors': 1}),\n",
       " (11,\n",
       "  0.7763809523809524,\n",
       "  {'Imputer': KNNImputer(weights='distance'),\n",
       "   'Imputer__n_neighbors': 7,\n",
       "   'KNN': KNeighborsClassifier(n_jobs=-1, weights='distance'),\n",
       "   'KNN__n_neighbors': 1}),\n",
       " (14,\n",
       "  0.7699761904761905,\n",
       "  {'Imputer': KNNImputer(weights='distance'),\n",
       "   'Imputer__n_neighbors': 7,\n",
       "   'KNN': KNeighborsClassifier(n_jobs=-1, weights='distance'),\n",
       "   'KNN__n_neighbors': 21}),\n",
       " (15,\n",
       "  0.7657142857142857,\n",
       "  {'Imputer': KNNImputer(weights='distance'),\n",
       "   'Imputer__n_neighbors': 21,\n",
       "   'KNN': KNeighborsClassifier(n_jobs=-1, weights='distance'),\n",
       "   'KNN__n_neighbors': 1}),\n",
       " (16,\n",
       "  0.7504285714285714,\n",
       "  {'Imputer': KNNImputer(weights='distance'),\n",
       "   'Imputer__n_neighbors': 21,\n",
       "   'KNN': KNeighborsClassifier(n_jobs=-1, weights='distance'),\n",
       "   'KNN__n_neighbors': 21})]"
      ]
     },
     "execution_count": 16,
     "metadata": {},
     "output_type": "execute_result"
    }
   ],
   "source": [
    "res = grid_2.cv_results_\n",
    "param_scores = list((zip(res[\"rank_test_score\"],res[\"mean_test_score\"],res[\"params\"], )))\n",
    "param_scores.sort(key=lambda x: x[0])\n",
    "param_scores"
   ]
  }
 ],
 "metadata": {
  "kernelspec": {
   "display_name": ".venv",
   "language": "python",
   "name": "python3"
  },
  "language_info": {
   "codemirror_mode": {
    "name": "ipython",
    "version": 3
   },
   "file_extension": ".py",
   "mimetype": "text/x-python",
   "name": "python",
   "nbconvert_exporter": "python",
   "pygments_lexer": "ipython3",
   "version": "3.11.4"
  }
 },
 "nbformat": 4,
 "nbformat_minor": 2
}
