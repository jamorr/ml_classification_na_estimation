{
 "cells": [
  {
   "cell_type": "code",
   "execution_count": 33,
   "metadata": {},
   "outputs": [
    {
     "name": "stderr",
     "output_type": "stream",
     "text": [
      "Intel(R) Extension for Scikit-learn* enabled (https://github.com/intel/scikit-learn-intelex)\n"
     ]
    }
   ],
   "source": [
    "import pandas as pd\n",
    "import numpy as np\n",
    "import seaborn as sns\n",
    "import matplotlib.pyplot as plt\n",
    "from utils import read_classification_dataset, features_histograms_mean_std\n",
    "# import sklearn\n",
    "from sklearnex import patch_sklearn\n",
    "from sklearn.calibration import LinearSVC\n",
    "from sklearn.ensemble import RandomForestClassifier\n",
    "from sklearn.feature_selection import SelectFromModel\n",
    "from sklearn.pipeline import Pipeline\n",
    "from sklearn.metrics import classification_report, ConfusionMatrixDisplay\n",
    "from sklearn.neighbors import KNeighborsClassifier\n",
    "from sklearn.preprocessing import MinMaxScaler, StandardScaler\n",
    "from sklearn.model_selection import cross_val_score\n",
    "from sklearn.experimental import enable_iterative_imputer\n",
    "from sklearn.impute import IterativeImputer, SimpleImputer, KNNImputer\n",
    "from sklearn.decomposition import PCA\n",
    "from sklearn.model_selection import GridSearchCV\n",
    "from sklearn.metrics import confusion_matrix, classification_report\n",
    "from sklearn.ensemble import GradientBoostingClassifier, AdaBoostClassifier\n",
    "\n",
    "import joblib\n",
    "\n",
    "from kneed import KneeLocator\n",
    "\n",
    "patch_sklearn()"
   ]
  },
  {
   "cell_type": "code",
   "execution_count": 26,
   "metadata": {},
   "outputs": [
    {
     "name": "stdout",
     "output_type": "stream",
     "text": [
      "c:\\Users\\Morri\\Documents\\Notebooks\\ML\\Project\n"
     ]
    },
    {
     "name": "stderr",
     "output_type": "stream",
     "text": [
      "c:\\Users\\Morri\\Documents\\Notebooks\\ML\\.venv\\Lib\\site-packages\\sklearn\\model_selection\\_split.py:737: UserWarning: The least populated class in y has only 3 members, which is less than n_splits=5.\n",
      "  warnings.warn(\n"
     ]
    },
    {
     "data": {
      "text/html": [
       "<style>#sk-container-id-4 {color: black;}#sk-container-id-4 pre{padding: 0;}#sk-container-id-4 div.sk-toggleable {background-color: white;}#sk-container-id-4 label.sk-toggleable__label {cursor: pointer;display: block;width: 100%;margin-bottom: 0;padding: 0.3em;box-sizing: border-box;text-align: center;}#sk-container-id-4 label.sk-toggleable__label-arrow:before {content: \"▸\";float: left;margin-right: 0.25em;color: #696969;}#sk-container-id-4 label.sk-toggleable__label-arrow:hover:before {color: black;}#sk-container-id-4 div.sk-estimator:hover label.sk-toggleable__label-arrow:before {color: black;}#sk-container-id-4 div.sk-toggleable__content {max-height: 0;max-width: 0;overflow: hidden;text-align: left;background-color: #f0f8ff;}#sk-container-id-4 div.sk-toggleable__content pre {margin: 0.2em;color: black;border-radius: 0.25em;background-color: #f0f8ff;}#sk-container-id-4 input.sk-toggleable__control:checked~div.sk-toggleable__content {max-height: 200px;max-width: 100%;overflow: auto;}#sk-container-id-4 input.sk-toggleable__control:checked~label.sk-toggleable__label-arrow:before {content: \"▾\";}#sk-container-id-4 div.sk-estimator input.sk-toggleable__control:checked~label.sk-toggleable__label {background-color: #d4ebff;}#sk-container-id-4 div.sk-label input.sk-toggleable__control:checked~label.sk-toggleable__label {background-color: #d4ebff;}#sk-container-id-4 input.sk-hidden--visually {border: 0;clip: rect(1px 1px 1px 1px);clip: rect(1px, 1px, 1px, 1px);height: 1px;margin: -1px;overflow: hidden;padding: 0;position: absolute;width: 1px;}#sk-container-id-4 div.sk-estimator {font-family: monospace;background-color: #f0f8ff;border: 1px dotted black;border-radius: 0.25em;box-sizing: border-box;margin-bottom: 0.5em;}#sk-container-id-4 div.sk-estimator:hover {background-color: #d4ebff;}#sk-container-id-4 div.sk-parallel-item::after {content: \"\";width: 100%;border-bottom: 1px solid gray;flex-grow: 1;}#sk-container-id-4 div.sk-label:hover label.sk-toggleable__label {background-color: #d4ebff;}#sk-container-id-4 div.sk-serial::before {content: \"\";position: absolute;border-left: 1px solid gray;box-sizing: border-box;top: 0;bottom: 0;left: 50%;z-index: 0;}#sk-container-id-4 div.sk-serial {display: flex;flex-direction: column;align-items: center;background-color: white;padding-right: 0.2em;padding-left: 0.2em;position: relative;}#sk-container-id-4 div.sk-item {position: relative;z-index: 1;}#sk-container-id-4 div.sk-parallel {display: flex;align-items: stretch;justify-content: center;background-color: white;position: relative;}#sk-container-id-4 div.sk-item::before, #sk-container-id-4 div.sk-parallel-item::before {content: \"\";position: absolute;border-left: 1px solid gray;box-sizing: border-box;top: 0;bottom: 0;left: 50%;z-index: -1;}#sk-container-id-4 div.sk-parallel-item {display: flex;flex-direction: column;z-index: 1;position: relative;background-color: white;}#sk-container-id-4 div.sk-parallel-item:first-child::after {align-self: flex-end;width: 50%;}#sk-container-id-4 div.sk-parallel-item:last-child::after {align-self: flex-start;width: 50%;}#sk-container-id-4 div.sk-parallel-item:only-child::after {width: 0;}#sk-container-id-4 div.sk-dashed-wrapped {border: 1px dashed gray;margin: 0 0.4em 0.5em 0.4em;box-sizing: border-box;padding-bottom: 0.4em;background-color: white;}#sk-container-id-4 div.sk-label label {font-family: monospace;font-weight: bold;display: inline-block;line-height: 1.2em;}#sk-container-id-4 div.sk-label-container {text-align: center;}#sk-container-id-4 div.sk-container {/* jupyter's `normalize.less` sets `[hidden] { display: none; }` but bootstrap.min.css set `[hidden] { display: none !important; }` so we also need the `!important` here to be able to override the default hidden behavior on the sphinx rendered scikit-learn.org. See: https://github.com/scikit-learn/scikit-learn/issues/21755 */display: inline-block !important;position: relative;}#sk-container-id-4 div.sk-text-repr-fallback {display: none;}</style><div id=\"sk-container-id-4\" class=\"sk-top-container\"><div class=\"sk-text-repr-fallback\"><pre>Pipeline(steps=[(&#x27;Scaler&#x27;, StandardScaler()),\n",
       "                (&#x27;Imputer&#x27;, KNNImputer(n_neighbors=1, weights=&#x27;distance&#x27;)),\n",
       "                (&#x27;PCA&#x27;, PCA(n_components=24)),\n",
       "                (&#x27;KNN&#x27;,\n",
       "                 KNeighborsClassifier(n_neighbors=3, weights=&#x27;distance&#x27;))])</pre><b>In a Jupyter environment, please rerun this cell to show the HTML representation or trust the notebook. <br />On GitHub, the HTML representation is unable to render, please try loading this page with nbviewer.org.</b></div><div class=\"sk-container\" hidden><div class=\"sk-item sk-dashed-wrapped\"><div class=\"sk-label-container\"><div class=\"sk-label sk-toggleable\"><input class=\"sk-toggleable__control sk-hidden--visually\" id=\"sk-estimator-id-16\" type=\"checkbox\" ><label for=\"sk-estimator-id-16\" class=\"sk-toggleable__label sk-toggleable__label-arrow\">Pipeline</label><div class=\"sk-toggleable__content\"><pre>Pipeline(steps=[(&#x27;Scaler&#x27;, StandardScaler()),\n",
       "                (&#x27;Imputer&#x27;, KNNImputer(n_neighbors=1, weights=&#x27;distance&#x27;)),\n",
       "                (&#x27;PCA&#x27;, PCA(n_components=24)),\n",
       "                (&#x27;KNN&#x27;,\n",
       "                 KNeighborsClassifier(n_neighbors=3, weights=&#x27;distance&#x27;))])</pre></div></div></div><div class=\"sk-serial\"><div class=\"sk-item\"><div class=\"sk-estimator sk-toggleable\"><input class=\"sk-toggleable__control sk-hidden--visually\" id=\"sk-estimator-id-17\" type=\"checkbox\" ><label for=\"sk-estimator-id-17\" class=\"sk-toggleable__label sk-toggleable__label-arrow\">StandardScaler</label><div class=\"sk-toggleable__content\"><pre>StandardScaler()</pre></div></div></div><div class=\"sk-item\"><div class=\"sk-estimator sk-toggleable\"><input class=\"sk-toggleable__control sk-hidden--visually\" id=\"sk-estimator-id-18\" type=\"checkbox\" ><label for=\"sk-estimator-id-18\" class=\"sk-toggleable__label sk-toggleable__label-arrow\">KNNImputer</label><div class=\"sk-toggleable__content\"><pre>KNNImputer(n_neighbors=1, weights=&#x27;distance&#x27;)</pre></div></div></div><div class=\"sk-item\"><div class=\"sk-estimator sk-toggleable\"><input class=\"sk-toggleable__control sk-hidden--visually\" id=\"sk-estimator-id-19\" type=\"checkbox\" ><label for=\"sk-estimator-id-19\" class=\"sk-toggleable__label sk-toggleable__label-arrow\">PCA</label><div class=\"sk-toggleable__content\"><pre>PCA(n_components=24)</pre></div></div></div><div class=\"sk-item\"><div class=\"sk-estimator sk-toggleable\"><input class=\"sk-toggleable__control sk-hidden--visually\" id=\"sk-estimator-id-20\" type=\"checkbox\" ><label for=\"sk-estimator-id-20\" class=\"sk-toggleable__label sk-toggleable__label-arrow\">KNeighborsClassifier</label><div class=\"sk-toggleable__content\"><pre>KNeighborsClassifier(n_neighbors=3, weights=&#x27;distance&#x27;)</pre></div></div></div></div></div></div></div>"
      ],
      "text/plain": [
       "Pipeline(steps=[('Scaler', StandardScaler()),\n",
       "                ('Imputer', KNNImputer(n_neighbors=1, weights='distance')),\n",
       "                ('PCA', PCA(n_components=24)),\n",
       "                ('KNN',\n",
       "                 KNeighborsClassifier(n_neighbors=3, weights='distance'))])"
      ]
     },
     "execution_count": 26,
     "metadata": {},
     "output_type": "execute_result"
    }
   ],
   "source": [
    "model = Pipeline([\n",
    "      ('Scaler', StandardScaler()),\n",
    "      ('Imputer', KNNImputer()),\n",
    "      ('PCA', PCA(n_components=24)),\n",
    "      ('KNN', KNeighborsClassifier())\n",
    "    ])\n",
    "param_grid = [\n",
    "    {\n",
    "        \"Imputer\": [SimpleImputer(strategy=\"mean\")],\n",
    "        \"KNN__n_neighbors\":[1,3,7,21],\n",
    "        \"KNN\": [KNeighborsClassifier(weights=\"distance\")]\n",
    "    },\n",
    "    {\n",
    "        \"Imputer\": [KNNImputer(weights='distance')],\n",
    "        \"Imputer__n_neighbors\":[1,3,7,21],\n",
    "        \"KNN__n_neighbors\":[1,3,7,21],\n",
    "        \"KNN\": [KNeighborsClassifier(weights=\"distance\")]\n",
    "    },\n",
    "\n",
    "]\n",
    "\n",
    "grid = GridSearchCV(model, param_grid, scoring=\"f1_weighted\", n_jobs=-1)\n",
    "train, target, test = read_classification_dataset(1)\n",
    "X, y = train.values, target.values.flatten()\n",
    "grid.fit(X, y)\n",
    "grid.best_estimator_"
   ]
  },
  {
   "cell_type": "code",
   "execution_count": 27,
   "metadata": {},
   "outputs": [
    {
     "name": "stdout",
     "output_type": "stream",
     "text": [
      "0.9616363636363635\n",
      "{'Imputer': KNNImputer(weights='distance'), 'Imputer__n_neighbors': 1, 'KNN': KNeighborsClassifier(weights='distance'), 'KNN__n_neighbors': 3}\n"
     ]
    },
    {
     "data": {
      "text/plain": [
       "array([2, 1, 1, 1, 1, 2, 1, 1, 3, 2, 3, 1, 1, 1, 1, 1, 1, 1, 1, 1, 1, 4,\n",
       "       3, 3, 4, 1, 5, 4, 1, 3, 1, 1, 4, 1, 1, 1, 1, 4, 3, 1, 1, 1, 4, 1,\n",
       "       1, 1, 1, 1, 1, 1, 1, 1, 1], dtype=int64)"
      ]
     },
     "metadata": {},
     "output_type": "display_data"
    }
   ],
   "source": [
    "print(grid.best_score_)\n",
    "print(grid.best_params_)\n",
    "prediction = grid.best_estimator_.predict(test.values)\n",
    "display(prediction)"
   ]
  },
  {
   "cell_type": "code",
   "execution_count": 28,
   "metadata": {},
   "outputs": [
    {
     "data": {
      "text/plain": [
       "[(1,\n",
       "  0.9616363636363635,\n",
       "  {'Imputer': KNNImputer(weights='distance'),\n",
       "   'Imputer__n_neighbors': 1,\n",
       "   'KNN': KNeighborsClassifier(weights='distance'),\n",
       "   'KNN__n_neighbors': 3}),\n",
       " (1,\n",
       "  0.9616363636363635,\n",
       "  {'Imputer': KNNImputer(weights='distance'),\n",
       "   'Imputer__n_neighbors': 3,\n",
       "   'KNN': KNeighborsClassifier(weights='distance'),\n",
       "   'KNN__n_neighbors': 3}),\n",
       " (3,\n",
       "  0.9517138830162086,\n",
       "  {'Imputer': SimpleImputer(),\n",
       "   'KNN': KNeighborsClassifier(weights='distance'),\n",
       "   'KNN__n_neighbors': 3}),\n",
       " (3,\n",
       "  0.9517138830162086,\n",
       "  {'Imputer': KNNImputer(weights='distance'),\n",
       "   'Imputer__n_neighbors': 7,\n",
       "   'KNN': KNeighborsClassifier(weights='distance'),\n",
       "   'KNN__n_neighbors': 3}),\n",
       " (3,\n",
       "  0.9517138830162086,\n",
       "  {'Imputer': KNNImputer(weights='distance'),\n",
       "   'Imputer__n_neighbors': 21,\n",
       "   'KNN': KNeighborsClassifier(weights='distance'),\n",
       "   'KNN__n_neighbors': 3}),\n",
       " (6,\n",
       "  0.9419393939393939,\n",
       "  {'Imputer': SimpleImputer(),\n",
       "   'KNN': KNeighborsClassifier(weights='distance'),\n",
       "   'KNN__n_neighbors': 1}),\n",
       " (7,\n",
       "  0.9358033753685927,\n",
       "  {'Imputer': KNNImputer(weights='distance'),\n",
       "   'Imputer__n_neighbors': 1,\n",
       "   'KNN': KNeighborsClassifier(weights='distance'),\n",
       "   'KNN__n_neighbors': 7}),\n",
       " (7,\n",
       "  0.9358033753685927,\n",
       "  {'Imputer': KNNImputer(weights='distance'),\n",
       "   'Imputer__n_neighbors': 21,\n",
       "   'KNN': KNeighborsClassifier(weights='distance'),\n",
       "   'KNN__n_neighbors': 7}),\n",
       " (9,\n",
       "  0.9356784455854221,\n",
       "  {'Imputer': KNNImputer(weights='distance'),\n",
       "   'Imputer__n_neighbors': 1,\n",
       "   'KNN': KNeighborsClassifier(weights='distance'),\n",
       "   'KNN__n_neighbors': 1}),\n",
       " (9,\n",
       "  0.9356784455854221,\n",
       "  {'Imputer': KNNImputer(weights='distance'),\n",
       "   'Imputer__n_neighbors': 3,\n",
       "   'KNN': KNeighborsClassifier(weights='distance'),\n",
       "   'KNN__n_neighbors': 1}),\n",
       " (9,\n",
       "  0.9356784455854221,\n",
       "  {'Imputer': KNNImputer(weights='distance'),\n",
       "   'Imputer__n_neighbors': 7,\n",
       "   'KNN': KNeighborsClassifier(weights='distance'),\n",
       "   'KNN__n_neighbors': 1}),\n",
       " (9,\n",
       "  0.9356784455854221,\n",
       "  {'Imputer': KNNImputer(weights='distance'),\n",
       "   'Imputer__n_neighbors': 21,\n",
       "   'KNN': KNeighborsClassifier(weights='distance'),\n",
       "   'KNN__n_neighbors': 1}),\n",
       " (13,\n",
       "  0.9280996716648889,\n",
       "  {'Imputer': SimpleImputer(),\n",
       "   'KNN': KNeighborsClassifier(weights='distance'),\n",
       "   'KNN__n_neighbors': 7}),\n",
       " (13,\n",
       "  0.9280996716648889,\n",
       "  {'Imputer': KNNImputer(weights='distance'),\n",
       "   'Imputer__n_neighbors': 3,\n",
       "   'KNN': KNeighborsClassifier(weights='distance'),\n",
       "   'KNN__n_neighbors': 7}),\n",
       " (13,\n",
       "  0.9280996716648889,\n",
       "  {'Imputer': KNNImputer(weights='distance'),\n",
       "   'Imputer__n_neighbors': 7,\n",
       "   'KNN': KNeighborsClassifier(weights='distance'),\n",
       "   'KNN__n_neighbors': 7}),\n",
       " (16,\n",
       "  0.8499919827320384,\n",
       "  {'Imputer': KNNImputer(weights='distance'),\n",
       "   'Imputer__n_neighbors': 1,\n",
       "   'KNN': KNeighborsClassifier(weights='distance'),\n",
       "   'KNN__n_neighbors': 21}),\n",
       " (16,\n",
       "  0.8499919827320384,\n",
       "  {'Imputer': KNNImputer(weights='distance'),\n",
       "   'Imputer__n_neighbors': 3,\n",
       "   'KNN': KNeighborsClassifier(weights='distance'),\n",
       "   'KNN__n_neighbors': 21}),\n",
       " (16,\n",
       "  0.8499919827320384,\n",
       "  {'Imputer': KNNImputer(weights='distance'),\n",
       "   'Imputer__n_neighbors': 7,\n",
       "   'KNN': KNeighborsClassifier(weights='distance'),\n",
       "   'KNN__n_neighbors': 21}),\n",
       " (16,\n",
       "  0.8499919827320384,\n",
       "  {'Imputer': KNNImputer(weights='distance'),\n",
       "   'Imputer__n_neighbors': 21,\n",
       "   'KNN': KNeighborsClassifier(weights='distance'),\n",
       "   'KNN__n_neighbors': 21}),\n",
       " (20,\n",
       "  0.8430070921985816,\n",
       "  {'Imputer': SimpleImputer(),\n",
       "   'KNN': KNeighborsClassifier(weights='distance'),\n",
       "   'KNN__n_neighbors': 21})]"
      ]
     },
     "execution_count": 28,
     "metadata": {},
     "output_type": "execute_result"
    }
   ],
   "source": [
    "res = grid.cv_results_\n",
    "param_scores = list((zip(res[\"rank_test_score\"],res[\"mean_test_score\"],res[\"params\"], )))\n",
    "param_scores.sort(key=lambda x: x[0])\n",
    "param_scores"
   ]
  },
  {
   "cell_type": "code",
   "execution_count": 31,
   "metadata": {},
   "outputs": [
    {
     "name": "stdout",
     "output_type": "stream",
     "text": [
      "              precision    recall  f1-score   support\n",
      "\n",
      "           1       0.74      1.00      0.85       108\n",
      "           2       1.00      0.14      0.25        14\n",
      "           3       1.00      0.09      0.17        11\n",
      "           4       1.00      0.14      0.25        14\n",
      "           5       0.00      0.00      0.00         3\n",
      "\n",
      "    accuracy                           0.75       150\n",
      "   macro avg       0.75      0.28      0.30       150\n",
      "weighted avg       0.80      0.75      0.67       150\n",
      "\n"
     ]
    },
    {
     "name": "stderr",
     "output_type": "stream",
     "text": [
      "c:\\Users\\Morri\\Documents\\Notebooks\\ML\\.venv\\Lib\\site-packages\\sklearn\\metrics\\_classification.py:1471: UndefinedMetricWarning: Precision and F-score are ill-defined and being set to 0.0 in labels with no predicted samples. Use `zero_division` parameter to control this behavior.\n",
      "  _warn_prf(average, modifier, msg_start, len(result))\n",
      "c:\\Users\\Morri\\Documents\\Notebooks\\ML\\.venv\\Lib\\site-packages\\sklearn\\metrics\\_classification.py:1471: UndefinedMetricWarning: Precision and F-score are ill-defined and being set to 0.0 in labels with no predicted samples. Use `zero_division` parameter to control this behavior.\n",
      "  _warn_prf(average, modifier, msg_start, len(result))\n",
      "c:\\Users\\Morri\\Documents\\Notebooks\\ML\\.venv\\Lib\\site-packages\\sklearn\\metrics\\_classification.py:1471: UndefinedMetricWarning: Precision and F-score are ill-defined and being set to 0.0 in labels with no predicted samples. Use `zero_division` parameter to control this behavior.\n",
      "  _warn_prf(average, modifier, msg_start, len(result))\n"
     ]
    },
    {
     "data": {
      "image/png": "[encoded data removed]",
      "text/plain": [
       "<Figure size 640x480 with 2 Axes>"
      ]
     },
     "metadata": {},
     "output_type": "display_data"
    }
   ],
   "source": [
    "best_model_path = './models/c_1_Scale_KNNI(1)_PCA(24)_KNN(3).pkl'\n",
    "joblib.dump(grid.best_estimator_, best_model_path)\n",
    "best_model = joblib.load(best_model_path)\n",
    "pred = best_model.predict(X)\n",
    "print(classification_report(y, pred))\n",
    "fig = ConfusionMatrixDisplay.from_predictions(y, pred)"
   ]
  },
  {
   "cell_type": "code",
   "execution_count": 37,
   "metadata": {},
   "outputs": [
    {
     "name": "stderr",
     "output_type": "stream",
     "text": [
      "c:\\Users\\Morri\\Documents\\Notebooks\\ML\\.venv\\Lib\\site-packages\\sklearn\\model_selection\\_split.py:737: UserWarning: The least populated class in y has only 3 members, which is less than n_splits=5.\n",
      "  warnings.warn(\n"
     ]
    },
    {
     "name": "stdout",
     "output_type": "stream",
     "text": [
      "0.9170831917044941\n",
      "{'GB': GradientBoostingClassifier(random_state=30), 'GB__n_estimators': 150, 'Imputer': KNNImputer(weights='distance'), 'Imputer__n_neighbors': 3}\n"
     ]
    },
    {
     "data": {
      "text/plain": [
       "array([2, 1, 1, 1, 1, 2, 1, 1, 3, 1, 3, 1, 1, 1, 5, 1, 1, 1, 1, 1, 1, 4,\n",
       "       3, 3, 4, 1, 5, 4, 1, 3, 1, 1, 4, 1, 1, 1, 1, 4, 3, 5, 1, 1, 4, 1,\n",
       "       1, 1, 1, 1, 1, 1, 1, 5, 1], dtype=int64)"
      ]
     },
     "metadata": {},
     "output_type": "display_data"
    }
   ],
   "source": [
    "model = Pipeline([\n",
    "      ('Scaler', StandardScaler()),\n",
    "      ('Imputer', KNNImputer()),\n",
    "      ('GB', GradientBoostingClassifier(random_state=30))\n",
    "    ])\n",
    "\"\"\"loss: Literal['log_loss', 'deviance', 'exponential'] = \"log_loss\",\n",
    "    learning_rate: Float = 0.1,\n",
    "    n_estimators: Int = 100,\n",
    "    subsample: Float = 1,\n",
    "    criterion: Literal['friedman_mse', 'squared_error'] = \"friedman_mse\",\n",
    "    min_samples_split: float | int = 2,\n",
    "    min_samples_leaf: float | int = 1,\n",
    "    min_weight_fraction_leaf: Float = 0,\n",
    "    max_depth: int | None = 3,\n",
    "    min_impurity_decrease: Float = 0,\n",
    "    init: str | BaseEstimator | None = None,\n",
    "    random_state: Int | RandomState | None = None,\n",
    "    max_features: float | int | Literal['auto', 'sqrt', 'log2'] | None = None,\n",
    "    verbose: Int = 0,\n",
    "    max_leaf_nodes: Int | None = None,\n",
    "    warm_start: bool = False,\n",
    "    validation_fraction: Float = 0.1,\n",
    "    n_iter_no_change: Int | None = None,\n",
    "    tol: Float = 0.0001,\n",
    "    ccp_alpha: float = 0\"\"\"\n",
    "param_grid = [\n",
    "    {\n",
    "        \"Imputer\": [SimpleImputer(strategy=\"mean\")],\n",
    "        \"GB__n_estimators\":[100, 150],\n",
    "        \"GB\":[AdaBoostClassifier(random_state=30), GradientBoostingClassifier(random_state=30)]\n",
    "\n",
    "    },\n",
    "    {\n",
    "        \"Imputer\": [KNNImputer(weights='distance')],\n",
    "        \"Imputer__n_neighbors\":[1,3],\n",
    "        \"GB__n_estimators\":[100, 150],\n",
    "        \"GB\":[AdaBoostClassifier(random_state=30), GradientBoostingClassifier(random_state=30)]\n",
    "    },\n",
    "]\n",
    "\n",
    "grid = GridSearchCV(model, param_grid, scoring=\"f1_weighted\", n_jobs=-1)\n",
    "grid.fit(X, y)\n",
    "print(grid.best_score_)\n",
    "print(grid.best_params_)\n",
    "prediction = grid.best_estimator_.predict(test.values)\n",
    "display(prediction)\n",
    "res = grid.cv_results_\n",
    "param_scores = list((zip(res[\"rank_test_score\"],res[\"mean_test_score\"],res[\"params\"], )))\n",
    "param_scores.sort(key=lambda x: x[0])"
   ]
  },
  {
   "cell_type": "code",
   "execution_count": 38,
   "metadata": {},
   "outputs": [
    {
     "name": "stdout",
     "output_type": "stream",
     "text": [
      "              precision    recall  f1-score   support\n",
      "\n",
      "           1       1.00      1.00      1.00       108\n",
      "           2       1.00      1.00      1.00        14\n",
      "           3       1.00      1.00      1.00        11\n",
      "           4       1.00      1.00      1.00        14\n",
      "           5       1.00      1.00      1.00         3\n",
      "\n",
      "    accuracy                           1.00       150\n",
      "   macro avg       1.00      1.00      1.00       150\n",
      "weighted avg       1.00      1.00      1.00       150\n",
      "\n"
     ]
    },
    {
     "data": {
      "image/png": "[encoded data removed]",
      "text/plain": [
       "<Figure size 640x480 with 2 Axes>"
      ]
     },
     "metadata": {},
     "output_type": "display_data"
    }
   ],
   "source": [
    "best_model_path = './models/c_1_Scale_KNN(3)_GB(150).pkl'\n",
    "joblib.dump(grid.best_estimator_, best_model_path)\n",
    "best_model = joblib.load(best_model_path)\n",
    "pred = best_model.predict(X)\n",
    "print(classification_report(y, pred))\n",
    "fig = ConfusionMatrixDisplay.from_predictions(y, pred)"
   ]
  },
  {
   "cell_type": "code",
   "execution_count": 39,
   "metadata": {},
   "outputs": [
    {
     "data": {
      "text/plain": [
       "[(1,\n",
       "  0.9170831917044941,\n",
       "  {'GB': GradientBoostingClassifier(random_state=30),\n",
       "   'GB__n_estimators': 150,\n",
       "   'Imputer': KNNImputer(weights='distance'),\n",
       "   'Imputer__n_neighbors': 3}),\n",
       " (2,\n",
       "  0.9138309339239571,\n",
       "  {'GB': GradientBoostingClassifier(random_state=30),\n",
       "   'GB__n_estimators': 100,\n",
       "   'Imputer': SimpleImputer()}),\n",
       " (2,\n",
       "  0.9138309339239571,\n",
       "  {'GB': GradientBoostingClassifier(random_state=30),\n",
       "   'GB__n_estimators': 150,\n",
       "   'Imputer': SimpleImputer()}),\n",
       " (4,\n",
       "  0.9123390056579825,\n",
       "  {'GB': GradientBoostingClassifier(random_state=30),\n",
       "   'GB__n_estimators': 150,\n",
       "   'Imputer': KNNImputer(weights='distance'),\n",
       "   'Imputer__n_neighbors': 1}),\n",
       " (5,\n",
       "  0.9053337827210426,\n",
       "  {'GB': GradientBoostingClassifier(random_state=30),\n",
       "   'GB__n_estimators': 100,\n",
       "   'Imputer': KNNImputer(weights='distance'),\n",
       "   'Imputer__n_neighbors': 3}),\n",
       " (6,\n",
       "  0.900589596674531,\n",
       "  {'GB': GradientBoostingClassifier(random_state=30),\n",
       "   'GB__n_estimators': 100,\n",
       "   'Imputer': KNNImputer(weights='distance'),\n",
       "   'Imputer__n_neighbors': 1}),\n",
       " (7,\n",
       "  0.7136522480919053,\n",
       "  {'GB': AdaBoostClassifier(random_state=30),\n",
       "   'GB__n_estimators': 100,\n",
       "   'Imputer': SimpleImputer()}),\n",
       " (7,\n",
       "  0.7136522480919053,\n",
       "  {'GB': AdaBoostClassifier(random_state=30),\n",
       "   'GB__n_estimators': 150,\n",
       "   'Imputer': SimpleImputer()}),\n",
       " (9,\n",
       "  0.6730070588695379,\n",
       "  {'GB': AdaBoostClassifier(random_state=30),\n",
       "   'GB__n_estimators': 100,\n",
       "   'Imputer': KNNImputer(weights='distance'),\n",
       "   'Imputer__n_neighbors': 3}),\n",
       " (9,\n",
       "  0.6730070588695379,\n",
       "  {'GB': AdaBoostClassifier(random_state=30),\n",
       "   'GB__n_estimators': 150,\n",
       "   'Imputer': KNNImputer(weights='distance'),\n",
       "   'Imputer__n_neighbors': 3}),\n",
       " (11,\n",
       "  0.6728361186985977,\n",
       "  {'GB': AdaBoostClassifier(random_state=30),\n",
       "   'GB__n_estimators': 100,\n",
       "   'Imputer': KNNImputer(weights='distance'),\n",
       "   'Imputer__n_neighbors': 1}),\n",
       " (11,\n",
       "  0.6728361186985977,\n",
       "  {'GB': AdaBoostClassifier(random_state=30),\n",
       "   'GB__n_estimators': 150,\n",
       "   'Imputer': KNNImputer(weights='distance'),\n",
       "   'Imputer__n_neighbors': 1})]"
      ]
     },
     "execution_count": 39,
     "metadata": {},
     "output_type": "execute_result"
    }
   ],
   "source": [
    "param_scores"
   ]
  },
  {
   "cell_type": "code",
   "execution_count": 45,
   "metadata": {},
   "outputs": [
    {
     "name": "stderr",
     "output_type": "stream",
     "text": [
      "c:\\Users\\Morri\\Documents\\Notebooks\\ML\\.venv\\Lib\\site-packages\\sklearn\\model_selection\\_split.py:737: UserWarning: The least populated class in y has only 3 members, which is less than n_splits=5.\n",
      "  warnings.warn(\n"
     ]
    },
    {
     "name": "stdout",
     "output_type": "stream",
     "text": [
      "0.898303118839487\n",
      "{'GB__n_estimators': 100, 'PCA__n_components': 27}\n"
     ]
    },
    {
     "data": {
      "text/plain": [
       "array([2, 1, 1, 1, 1, 2, 1, 1, 3, 2, 3, 1, 1, 3, 4, 1, 1, 1, 1, 1, 1, 4,\n",
       "       3, 3, 4, 1, 1, 4, 1, 1, 1, 1, 4, 1, 1, 1, 1, 4, 3, 1, 1, 1, 4, 1,\n",
       "       1, 1, 1, 1, 1, 1, 1, 1, 1], dtype=int64)"
      ]
     },
     "metadata": {},
     "output_type": "display_data"
    },
    {
     "data": {
      "text/plain": [
       "[(1, 0.898303118839487, {'GB__n_estimators': 100, 'PCA__n_components': 27}),\n",
       " (2, 0.8926047061410742, {'GB__n_estimators': 100, 'PCA__n_components': 25}),\n",
       " (3, 0.8920351232691658, {'GB__n_estimators': 75, 'PCA__n_components': 20}),\n",
       " (3, 0.8920351232691658, {'GB__n_estimators': 75, 'PCA__n_components': 22}),\n",
       " (5, 0.8908828289844145, {'GB__n_estimators': 75, 'PCA__n_components': 27}),\n",
       " (5, 0.8908828289844145, {'GB__n_estimators': 150, 'PCA__n_components': 24}),\n",
       " (5, 0.8908828289844145, {'GB__n_estimators': 150, 'PCA__n_components': 25}),\n",
       " (8, 0.8885286297626724, {'GB__n_estimators': 75, 'PCA__n_components': 24}),\n",
       " (9, 0.888017195909479, {'GB__n_estimators': 250, 'PCA__n_components': 26}),\n",
       " (10, 0.8869905628581058, {'GB__n_estimators': 200, 'PCA__n_components': 27}),\n",
       " (11, 0.8851844162860019, {'GB__n_estimators': 100, 'PCA__n_components': 20}),\n",
       " (12, 0.8831779804120229, {'GB__n_estimators': 100, 'PCA__n_components': 23}),\n",
       " (13, 0.8827793093156775, {'GB__n_estimators': 200, 'PCA__n_components': 24}),\n",
       " (14, 0.8822676814087007, {'GB__n_estimators': 75, 'PCA__n_components': 25}),\n",
       " (15, 0.8811083399075998, {'GB__n_estimators': 75, 'PCA__n_components': 23}),\n",
       " (15, 0.8811083399075998, {'GB__n_estimators': 200, 'PCA__n_components': 21}),\n",
       " (17, 0.8796714869055295, {'GB__n_estimators': 100, 'PCA__n_components': 24}),\n",
       " (17, 0.8796714869055295, {'GB__n_estimators': 150, 'PCA__n_components': 22}),\n",
       " (19, 0.8796653384645984, {'GB__n_estimators': 150, 'PCA__n_components': 27}),\n",
       " (20, 0.8774795677136101, {'GB__n_estimators': 200, 'PCA__n_components': 25}),\n",
       " (21, 0.8771651660327089, {'GB__n_estimators': 250, 'PCA__n_components': 24}),\n",
       " (22, 0.876569268710288, {'GB__n_estimators': 250, 'PCA__n_components': 20}),\n",
       " (23, 0.8764115428443031, {'GB__n_estimators': 200, 'PCA__n_components': 20}),\n",
       " (24, 0.8754099272091871, {'GB__n_estimators': 150, 'PCA__n_components': 26}),\n",
       " (25, 0.8748473915536282, {'GB__n_estimators': 100, 'PCA__n_components': 21}),\n",
       " (25, 0.8748473915536282, {'GB__n_estimators': 250, 'PCA__n_components': 22}),\n",
       " (27, 0.8739730742071167, {'GB__n_estimators': 75, 'PCA__n_components': 26}),\n",
       " (28, 0.872251197050457, {'GB__n_estimators': 100, 'PCA__n_components': 22}),\n",
       " (29, 0.8691489788552156, {'GB__n_estimators': 100, 'PCA__n_components': 26}),\n",
       " (30, 0.8683589309241484, {'GB__n_estimators': 250, 'PCA__n_components': 27}),\n",
       " (31, 0.8677963952685893, {'GB__n_estimators': 150, 'PCA__n_components': 20}),\n",
       " (32, 0.8666370537674885, {'GB__n_estimators': 75, 'PCA__n_components': 21}),\n",
       " (33, 0.8665527843520442, {'GB__n_estimators': 200, 'PCA__n_components': 23}),\n",
       " (33, 0.8665527843520442, {'GB__n_estimators': 200, 'PCA__n_components': 26}),\n",
       " (35, 0.8659902486964853, {'GB__n_estimators': 150, 'PCA__n_components': 23}),\n",
       " (35, 0.8659902486964853, {'GB__n_estimators': 200, 'PCA__n_components': 22}),\n",
       " (35, 0.8659902486964853, {'GB__n_estimators': 250, 'PCA__n_components': 21}),\n",
       " (38, 0.8609386410690758, {'GB__n_estimators': 250, 'PCA__n_components': 25}),\n",
       " (39, 0.8603761054135168, {'GB__n_estimators': 150, 'PCA__n_components': 21}),\n",
       " (39, 0.8603761054135168, {'GB__n_estimators': 250, 'PCA__n_components': 23})]"
      ]
     },
     "execution_count": 45,
     "metadata": {},
     "output_type": "execute_result"
    }
   ],
   "source": [
    "model = Pipeline([\n",
    "        (\"Imputer\", SimpleImputer(strategy=\"mean\")),\n",
    "        ('Scaler', StandardScaler()),\n",
    "        ('PCA', PCA(n_components=24)),\n",
    "        ('GB', GradientBoostingClassifier(random_state=30))\n",
    "    ])\n",
    "param_grid = [{\n",
    "        \"PCA__n_components\":list(range(20, 28)),\n",
    "        \"GB__n_estimators\":[75, 100, 150, 200, 250],\n",
    "    },]\n",
    "\n",
    "grid = GridSearchCV(model, param_grid, scoring=\"f1_weighted\", n_jobs=-1, verbose=1)\n",
    "grid.fit(X, y)\n",
    "print(grid.best_score_)\n",
    "print(grid.best_params_)\n",
    "prediction = grid.best_estimator_.predict(test.values)\n",
    "display(prediction)\n",
    "res = grid.cv_results_\n",
    "param_scores = list((zip(res[\"rank_test_score\"],res[\"mean_test_score\"],res[\"params\"], )))\n",
    "param_scores.sort(key=lambda x: x[0])\n",
    "param_scores"
   ]
  },
  {
   "cell_type": "code",
   "execution_count": 46,
   "metadata": {},
   "outputs": [
    {
     "name": "stdout",
     "output_type": "stream",
     "text": [
      "              precision    recall  f1-score   support\n",
      "\n",
      "           1       1.00      1.00      1.00       108\n",
      "           2       1.00      1.00      1.00        14\n",
      "           3       1.00      1.00      1.00        11\n",
      "           4       1.00      1.00      1.00        14\n",
      "           5       1.00      1.00      1.00         3\n",
      "\n",
      "    accuracy                           1.00       150\n",
      "   macro avg       1.00      1.00      1.00       150\n",
      "weighted avg       1.00      1.00      1.00       150\n",
      "\n"
     ]
    },
    {
     "data": {
      "image/png": "[encoded data removed]",
      "text/plain": [
       "<Figure size 640x480 with 2 Axes>"
      ]
     },
     "metadata": {},
     "output_type": "display_data"
    }
   ],
   "source": [
    "# best_model_path = './models/c_1_Scale_Simple_PCA(2)_GB(200).pkl'\n",
    "# joblib.dump(grid.best_estimator_, best_model_path)\n",
    "# best_model = joblib.load(best_model_path)\n",
    "pred = grid.best_estimator_.predict(X)\n",
    "print(classification_report(y, pred))\n",
    "fig = ConfusionMatrixDisplay.from_predictions(y, pred)"
   ]
  }
 ],
 "metadata": {
  "kernelspec": {
   "display_name": ".venv",
   "language": "python",
   "name": "python3"
  },
  "language_info": {
   "codemirror_mode": {
    "name": "ipython",
    "version": 3
   },
   "file_extension": ".py",
   "mimetype": "text/x-python",
   "name": "python",
   "nbconvert_exporter": "python",
   "pygments_lexer": "ipython3",
   "version": "3.11.4"
  }
 },
 "nbformat": 4,
 "nbformat_minor": 2
}
