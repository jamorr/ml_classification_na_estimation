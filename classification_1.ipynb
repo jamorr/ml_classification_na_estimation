{
 "cells": [
  {
   "cell_type": "code",
   "execution_count": 11,
   "metadata": {},
   "outputs": [
    {
     "name": "stderr",
     "output_type": "stream",
     "text": [
      "Intel(R) Extension for Scikit-learn* enabled (https://github.com/intel/scikit-learn-intelex)\n"
     ]
    }
   ],
   "source": [
    "import pandas as pd\n",
    "import numpy as np\n",
    "import seaborn as sns\n",
    "import matplotlib.pyplot as plt\n",
    "from utils import read_classification_dataset, features_histograms_mean_std\n",
    "# import sklearn\n",
    "from sklearnex import patch_sklearn\n",
    "from sklearn.calibration import LinearSVC\n",
    "from sklearn.ensemble import RandomForestClassifier\n",
    "from sklearn.feature_selection import SelectFromModel\n",
    "from sklearn.pipeline import Pipeline\n",
    "from sklearn.metrics import classification_report\n",
    "from sklearn.neighbors import KNeighborsClassifier\n",
    "from sklearn.preprocessing import MinMaxScaler, StandardScaler\n",
    "from sklearn.model_selection import cross_val_score\n",
    "from sklearn.experimental import enable_iterative_imputer\n",
    "from sklearn.impute import IterativeImputer, SimpleImputer, KNNImputer\n",
    "from sklearn.decomposition import PCA\n",
    "from sklearn.model_selection import GridSearchCV\n",
    "import joblib\n",
    "\n",
    "from kneed import KneeLocator\n",
    "\n",
    "patch_sklearn()"
   ]
  },
  {
   "cell_type": "code",
   "execution_count": 12,
   "metadata": {},
   "outputs": [
    {
     "name": "stdout",
     "output_type": "stream",
     "text": [
      "c:\\Users\\Morri\\Documents\\Notebooks\\ML\\Project\n"
     ]
    },
    {
     "name": "stderr",
     "output_type": "stream",
     "text": [
      "c:\\Users\\Morri\\Documents\\Notebooks\\ML\\.venv\\Lib\\site-packages\\sklearn\\model_selection\\_split.py:737: UserWarning: The least populated class in y has only 3 members, which is less than n_splits=5.\n",
      "  warnings.warn(\n"
     ]
    },
    {
     "data": {
      "text/html": [
       "<style>#sk-container-id-2 {color: black;}#sk-container-id-2 pre{padding: 0;}#sk-container-id-2 div.sk-toggleable {background-color: white;}#sk-container-id-2 label.sk-toggleable__label {cursor: pointer;display: block;width: 100%;margin-bottom: 0;padding: 0.3em;box-sizing: border-box;text-align: center;}#sk-container-id-2 label.sk-toggleable__label-arrow:before {content: \"▸\";float: left;margin-right: 0.25em;color: #696969;}#sk-container-id-2 label.sk-toggleable__label-arrow:hover:before {color: black;}#sk-container-id-2 div.sk-estimator:hover label.sk-toggleable__label-arrow:before {color: black;}#sk-container-id-2 div.sk-toggleable__content {max-height: 0;max-width: 0;overflow: hidden;text-align: left;background-color: #f0f8ff;}#sk-container-id-2 div.sk-toggleable__content pre {margin: 0.2em;color: black;border-radius: 0.25em;background-color: #f0f8ff;}#sk-container-id-2 input.sk-toggleable__control:checked~div.sk-toggleable__content {max-height: 200px;max-width: 100%;overflow: auto;}#sk-container-id-2 input.sk-toggleable__control:checked~label.sk-toggleable__label-arrow:before {content: \"▾\";}#sk-container-id-2 div.sk-estimator input.sk-toggleable__control:checked~label.sk-toggleable__label {background-color: #d4ebff;}#sk-container-id-2 div.sk-label input.sk-toggleable__control:checked~label.sk-toggleable__label {background-color: #d4ebff;}#sk-container-id-2 input.sk-hidden--visually {border: 0;clip: rect(1px 1px 1px 1px);clip: rect(1px, 1px, 1px, 1px);height: 1px;margin: -1px;overflow: hidden;padding: 0;position: absolute;width: 1px;}#sk-container-id-2 div.sk-estimator {font-family: monospace;background-color: #f0f8ff;border: 1px dotted black;border-radius: 0.25em;box-sizing: border-box;margin-bottom: 0.5em;}#sk-container-id-2 div.sk-estimator:hover {background-color: #d4ebff;}#sk-container-id-2 div.sk-parallel-item::after {content: \"\";width: 100%;border-bottom: 1px solid gray;flex-grow: 1;}#sk-container-id-2 div.sk-label:hover label.sk-toggleable__label {background-color: #d4ebff;}#sk-container-id-2 div.sk-serial::before {content: \"\";position: absolute;border-left: 1px solid gray;box-sizing: border-box;top: 0;bottom: 0;left: 50%;z-index: 0;}#sk-container-id-2 div.sk-serial {display: flex;flex-direction: column;align-items: center;background-color: white;padding-right: 0.2em;padding-left: 0.2em;position: relative;}#sk-container-id-2 div.sk-item {position: relative;z-index: 1;}#sk-container-id-2 div.sk-parallel {display: flex;align-items: stretch;justify-content: center;background-color: white;position: relative;}#sk-container-id-2 div.sk-item::before, #sk-container-id-2 div.sk-parallel-item::before {content: \"\";position: absolute;border-left: 1px solid gray;box-sizing: border-box;top: 0;bottom: 0;left: 50%;z-index: -1;}#sk-container-id-2 div.sk-parallel-item {display: flex;flex-direction: column;z-index: 1;position: relative;background-color: white;}#sk-container-id-2 div.sk-parallel-item:first-child::after {align-self: flex-end;width: 50%;}#sk-container-id-2 div.sk-parallel-item:last-child::after {align-self: flex-start;width: 50%;}#sk-container-id-2 div.sk-parallel-item:only-child::after {width: 0;}#sk-container-id-2 div.sk-dashed-wrapped {border: 1px dashed gray;margin: 0 0.4em 0.5em 0.4em;box-sizing: border-box;padding-bottom: 0.4em;background-color: white;}#sk-container-id-2 div.sk-label label {font-family: monospace;font-weight: bold;display: inline-block;line-height: 1.2em;}#sk-container-id-2 div.sk-label-container {text-align: center;}#sk-container-id-2 div.sk-container {/* jupyter's `normalize.less` sets `[hidden] { display: none; }` but bootstrap.min.css set `[hidden] { display: none !important; }` so we also need the `!important` here to be able to override the default hidden behavior on the sphinx rendered scikit-learn.org. See: https://github.com/scikit-learn/scikit-learn/issues/21755 */display: inline-block !important;position: relative;}#sk-container-id-2 div.sk-text-repr-fallback {display: none;}</style><div id=\"sk-container-id-2\" class=\"sk-top-container\"><div class=\"sk-text-repr-fallback\"><pre>Pipeline(steps=[(&#x27;Scaler&#x27;, StandardScaler()),\n",
       "                (&#x27;Imputer&#x27;, KNNImputer(n_neighbors=1, weights=&#x27;distance&#x27;)),\n",
       "                (&#x27;PCA&#x27;, PCA(n_components=24)),\n",
       "                (&#x27;KNN&#x27;,\n",
       "                 KNeighborsClassifier(n_jobs=-1, n_neighbors=3,\n",
       "                                      weights=&#x27;distance&#x27;))])</pre><b>In a Jupyter environment, please rerun this cell to show the HTML representation or trust the notebook. <br />On GitHub, the HTML representation is unable to render, please try loading this page with nbviewer.org.</b></div><div class=\"sk-container\" hidden><div class=\"sk-item sk-dashed-wrapped\"><div class=\"sk-label-container\"><div class=\"sk-label sk-toggleable\"><input class=\"sk-toggleable__control sk-hidden--visually\" id=\"sk-estimator-id-6\" type=\"checkbox\" ><label for=\"sk-estimator-id-6\" class=\"sk-toggleable__label sk-toggleable__label-arrow\">Pipeline</label><div class=\"sk-toggleable__content\"><pre>Pipeline(steps=[(&#x27;Scaler&#x27;, StandardScaler()),\n",
       "                (&#x27;Imputer&#x27;, KNNImputer(n_neighbors=1, weights=&#x27;distance&#x27;)),\n",
       "                (&#x27;PCA&#x27;, PCA(n_components=24)),\n",
       "                (&#x27;KNN&#x27;,\n",
       "                 KNeighborsClassifier(n_jobs=-1, n_neighbors=3,\n",
       "                                      weights=&#x27;distance&#x27;))])</pre></div></div></div><div class=\"sk-serial\"><div class=\"sk-item\"><div class=\"sk-estimator sk-toggleable\"><input class=\"sk-toggleable__control sk-hidden--visually\" id=\"sk-estimator-id-7\" type=\"checkbox\" ><label for=\"sk-estimator-id-7\" class=\"sk-toggleable__label sk-toggleable__label-arrow\">StandardScaler</label><div class=\"sk-toggleable__content\"><pre>StandardScaler()</pre></div></div></div><div class=\"sk-item\"><div class=\"sk-estimator sk-toggleable\"><input class=\"sk-toggleable__control sk-hidden--visually\" id=\"sk-estimator-id-8\" type=\"checkbox\" ><label for=\"sk-estimator-id-8\" class=\"sk-toggleable__label sk-toggleable__label-arrow\">KNNImputer</label><div class=\"sk-toggleable__content\"><pre>KNNImputer(n_neighbors=1, weights=&#x27;distance&#x27;)</pre></div></div></div><div class=\"sk-item\"><div class=\"sk-estimator sk-toggleable\"><input class=\"sk-toggleable__control sk-hidden--visually\" id=\"sk-estimator-id-9\" type=\"checkbox\" ><label for=\"sk-estimator-id-9\" class=\"sk-toggleable__label sk-toggleable__label-arrow\">PCA</label><div class=\"sk-toggleable__content\"><pre>PCA(n_components=24)</pre></div></div></div><div class=\"sk-item\"><div class=\"sk-estimator sk-toggleable\"><input class=\"sk-toggleable__control sk-hidden--visually\" id=\"sk-estimator-id-10\" type=\"checkbox\" ><label for=\"sk-estimator-id-10\" class=\"sk-toggleable__label sk-toggleable__label-arrow\">KNeighborsClassifier</label><div class=\"sk-toggleable__content\"><pre>KNeighborsClassifier(n_jobs=-1, n_neighbors=3, weights=&#x27;distance&#x27;)</pre></div></div></div></div></div></div></div>"
      ],
      "text/plain": [
       "Pipeline(steps=[('Scaler', StandardScaler()),\n",
       "                ('Imputer', KNNImputer(n_neighbors=1, weights='distance')),\n",
       "                ('PCA', PCA(n_components=24)),\n",
       "                ('KNN',\n",
       "                 KNeighborsClassifier(n_jobs=-1, n_neighbors=3,\n",
       "                                      weights='distance'))])"
      ]
     },
     "execution_count": 12,
     "metadata": {},
     "output_type": "execute_result"
    }
   ],
   "source": [
    "model = Pipeline([\n",
    "      ('Scaler', StandardScaler()),\n",
    "      ('Imputer', KNNImputer()),\n",
    "      ('PCA', PCA(n_components=24)),\n",
    "      ('KNN', KNeighborsClassifier())\n",
    "    ])\n",
    "param_grid = [\n",
    "    {\n",
    "        \"Imputer\": [KNNImputer(weights='distance')],\n",
    "        \"Imputer__n_neighbors\":[1,3,7,21],\n",
    "        \"KNN__n_neighbors\":[1,3,7,21],\n",
    "        \"KNN\": [KNeighborsClassifier(weights=\"distance\", n_jobs=-1)]\n",
    "    },\n",
    "]\n",
    "\n",
    "grid = GridSearchCV(model, param_grid, scoring=\"f1_weighted\")\n",
    "train, target, test = read_classification_dataset(1)\n",
    "X, y = train.values, target.values.flatten()\n",
    "grid.fit(X, y)\n",
    "grid.best_estimator_"
   ]
  },
  {
   "cell_type": "code",
   "execution_count": 13,
   "metadata": {},
   "outputs": [
    {
     "name": "stdout",
     "output_type": "stream",
     "text": [
      "0.9616363636363635\n",
      "{'Imputer': KNNImputer(weights='distance'), 'Imputer__n_neighbors': 1, 'KNN': KNeighborsClassifier(n_jobs=-1, weights='distance'), 'KNN__n_neighbors': 3}\n"
     ]
    },
    {
     "data": {
      "text/plain": [
       "array([2, 1, 1, 1, 1, 2, 1, 1, 3, 2, 3, 1, 1, 1, 1, 1, 1, 1, 1, 1, 1, 4,\n",
       "       3, 3, 4, 1, 5, 4, 1, 3, 1, 1, 4, 1, 1, 1, 1, 4, 3, 5, 1, 1, 4, 1,\n",
       "       1, 1, 1, 1, 1, 1, 1, 1, 1], dtype=int64)"
      ]
     },
     "metadata": {},
     "output_type": "display_data"
    }
   ],
   "source": [
    "print(grid.best_score_)\n",
    "print(grid.best_params_)\n",
    "prediction = grid.best_estimator_.predict(test.values)\n",
    "display(prediction)"
   ]
  },
  {
   "cell_type": "code",
   "execution_count": 14,
   "metadata": {},
   "outputs": [
    {
     "data": {
      "text/plain": [
       "[(1,\n",
       "  0.9616363636363635,\n",
       "  {'Imputer': KNNImputer(weights='distance'),\n",
       "   'Imputer__n_neighbors': 1,\n",
       "   'KNN': KNeighborsClassifier(n_jobs=-1, weights='distance'),\n",
       "   'KNN__n_neighbors': 3}),\n",
       " (1,\n",
       "  0.9616363636363635,\n",
       "  {'Imputer': KNNImputer(weights='distance'),\n",
       "   'Imputer__n_neighbors': 3,\n",
       "   'KNN': KNeighborsClassifier(n_jobs=-1, weights='distance'),\n",
       "   'KNN__n_neighbors': 3}),\n",
       " (1,\n",
       "  0.9616363636363635,\n",
       "  {'Imputer': KNNImputer(weights='distance'),\n",
       "   'Imputer__n_neighbors': 7,\n",
       "   'KNN': KNeighborsClassifier(n_jobs=-1, weights='distance'),\n",
       "   'KNN__n_neighbors': 3}),\n",
       " (4,\n",
       "  0.9517138830162086,\n",
       "  {'Imputer': KNNImputer(weights='distance'),\n",
       "   'Imputer__n_neighbors': 21,\n",
       "   'KNN': KNeighborsClassifier(n_jobs=-1, weights='distance'),\n",
       "   'KNN__n_neighbors': 3}),\n",
       " (5,\n",
       "  0.9454458874458874,\n",
       "  {'Imputer': KNNImputer(weights='distance'),\n",
       "   'Imputer__n_neighbors': 1,\n",
       "   'KNN': KNeighborsClassifier(n_jobs=-1, weights='distance'),\n",
       "   'KNN__n_neighbors': 1}),\n",
       " (5,\n",
       "  0.9454458874458874,\n",
       "  {'Imputer': KNNImputer(weights='distance'),\n",
       "   'Imputer__n_neighbors': 3,\n",
       "   'KNN': KNeighborsClassifier(n_jobs=-1, weights='distance'),\n",
       "   'KNN__n_neighbors': 1}),\n",
       " (7,\n",
       "  0.9356784455854221,\n",
       "  {'Imputer': KNNImputer(weights='distance'),\n",
       "   'Imputer__n_neighbors': 7,\n",
       "   'KNN': KNeighborsClassifier(n_jobs=-1, weights='distance'),\n",
       "   'KNN__n_neighbors': 1}),\n",
       " (7,\n",
       "  0.9356784455854221,\n",
       "  {'Imputer': KNNImputer(weights='distance'),\n",
       "   'Imputer__n_neighbors': 21,\n",
       "   'KNN': KNeighborsClassifier(n_jobs=-1, weights='distance'),\n",
       "   'KNN__n_neighbors': 1}),\n",
       " (9,\n",
       "  0.9280996716648889,\n",
       "  {'Imputer': KNNImputer(weights='distance'),\n",
       "   'Imputer__n_neighbors': 3,\n",
       "   'KNN': KNeighborsClassifier(n_jobs=-1, weights='distance'),\n",
       "   'KNN__n_neighbors': 7}),\n",
       " (9,\n",
       "  0.9280996716648889,\n",
       "  {'Imputer': KNNImputer(weights='distance'),\n",
       "   'Imputer__n_neighbors': 7,\n",
       "   'KNN': KNeighborsClassifier(n_jobs=-1, weights='distance'),\n",
       "   'KNN__n_neighbors': 7}),\n",
       " (9,\n",
       "  0.9280996716648889,\n",
       "  {'Imputer': KNNImputer(weights='distance'),\n",
       "   'Imputer__n_neighbors': 21,\n",
       "   'KNN': KNeighborsClassifier(n_jobs=-1, weights='distance'),\n",
       "   'KNN__n_neighbors': 7}),\n",
       " (12,\n",
       "  0.9208438577114005,\n",
       "  {'Imputer': KNNImputer(weights='distance'),\n",
       "   'Imputer__n_neighbors': 1,\n",
       "   'KNN': KNeighborsClassifier(n_jobs=-1, weights='distance'),\n",
       "   'KNN__n_neighbors': 7}),\n",
       " (13,\n",
       "  0.8499919827320384,\n",
       "  {'Imputer': KNNImputer(weights='distance'),\n",
       "   'Imputer__n_neighbors': 1,\n",
       "   'KNN': KNeighborsClassifier(n_jobs=-1, weights='distance'),\n",
       "   'KNN__n_neighbors': 21}),\n",
       " (13,\n",
       "  0.8499919827320384,\n",
       "  {'Imputer': KNNImputer(weights='distance'),\n",
       "   'Imputer__n_neighbors': 3,\n",
       "   'KNN': KNeighborsClassifier(n_jobs=-1, weights='distance'),\n",
       "   'KNN__n_neighbors': 21}),\n",
       " (13,\n",
       "  0.8499919827320384,\n",
       "  {'Imputer': KNNImputer(weights='distance'),\n",
       "   'Imputer__n_neighbors': 7,\n",
       "   'KNN': KNeighborsClassifier(n_jobs=-1, weights='distance'),\n",
       "   'KNN__n_neighbors': 21}),\n",
       " (13,\n",
       "  0.8499919827320384,\n",
       "  {'Imputer': KNNImputer(weights='distance'),\n",
       "   'Imputer__n_neighbors': 21,\n",
       "   'KNN': KNeighborsClassifier(n_jobs=-1, weights='distance'),\n",
       "   'KNN__n_neighbors': 21})]"
      ]
     },
     "execution_count": 14,
     "metadata": {},
     "output_type": "execute_result"
    }
   ],
   "source": [
    "res = grid.cv_results_\n",
    "param_scores = list((zip(res[\"rank_test_score\"],res[\"mean_test_score\"],res[\"params\"], )))\n",
    "param_scores.sort(key=lambda x: x[0])\n",
    "param_scores"
   ]
  },
  {
   "cell_type": "code",
   "execution_count": 16,
   "metadata": {},
   "outputs": [
    {
     "data": {
      "text/plain": [
       "0.7533333333333333"
      ]
     },
     "execution_count": 16,
     "metadata": {},
     "output_type": "execute_result"
    }
   ],
   "source": [
    "joblib.dump(grid.best_estimator_, './models/c_1_Scale_KNNI(1)_PCA(24)_KNN(3).pkl')\n",
    "joblib.load('./models/c_1_Scale_KNNI(1)_PCA(24)_KNN(3).pkl').score(X, y)\n"
   ]
  }
 ],
 "metadata": {
  "kernelspec": {
   "display_name": ".venv",
   "language": "python",
   "name": "python3"
  },
  "language_info": {
   "codemirror_mode": {
    "name": "ipython",
    "version": 3
   },
   "file_extension": ".py",
   "mimetype": "text/x-python",
   "name": "python",
   "nbconvert_exporter": "python",
   "pygments_lexer": "ipython3",
   "version": "3.11.4"
  }
 },
 "nbformat": 4,
 "nbformat_minor": 2
}
