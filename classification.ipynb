{
 "cells": [
  {
   "cell_type": "markdown",
   "metadata": {},
   "source": [
    "# 1 3 5 - Jack\n",
    "# 2 4 - Jayden\n",
    "Explain why we chose a given algorithm not how the algorithm works"
   ]
  },
  {
   "cell_type": "code",
   "execution_count": 35,
   "metadata": {},
   "outputs": [],
   "source": [
    "import pandas as pd\n",
    "import numpy as np\n",
    "import seaborn as sns\n",
    "import matplotlib.pyplot as plt\n",
    "from utils import read_classification_dataset, features_histograms_mean_std\n",
    "# import sklearn\n",
    "from sklearnex import patch_sklearn\n",
    "from sklearn.calibration import LinearSVC\n",
    "from sklearn.ensemble import RandomForestClassifier\n",
    "from sklearn.feature_selection import SelectFromModel\n",
    "from sklearn.pipeline import Pipeline\n",
    "from sklearn.metrics import classification_report\n",
    "from sklearn.neighbors import KNeighborsClassifier\n",
    "from sklearn.preprocessing import MinMaxScaler\n",
    "from sklearn.model_selection import cross_val_score\n",
    "from sklearn.experimental import enable_iterative_imputer\n",
    "from sklearn.impute import IterativeImputer, SimpleImputer, KNNImputer"
   ]
  },
  {
   "cell_type": "code",
   "execution_count": 36,
   "metadata": {},
   "outputs": [
    {
     "name": "stderr",
     "output_type": "stream",
     "text": [
      "Intel(R) Extension for Scikit-learn* enabled (https://github.com/intel/scikit-learn-intelex)\n"
     ]
    }
   ],
   "source": [
    "patch_sklearn()"
   ]
  },
  {
   "cell_type": "code",
   "execution_count": 37,
   "metadata": {},
   "outputs": [],
   "source": [
    "train, target, test = read_classification_dataset(1)\n",
    "X, y = train.values, target.values.flatten()"
   ]
  },
  {
   "cell_type": "code",
   "execution_count": 38,
   "metadata": {},
   "outputs": [
    {
     "data": {
      "text/plain": [
       "7021"
      ]
     },
     "execution_count": 38,
     "metadata": {},
     "output_type": "execute_result"
    }
   ],
   "source": [
    "test.isna().sum().sum()"
   ]
  },
  {
   "cell_type": "code",
   "execution_count": 39,
   "metadata": {},
   "outputs": [
    {
     "data": {
      "text/html": [
       "<div>\n",
       "<style scoped>\n",
       "    .dataframe tbody tr th:only-of-type {\n",
       "        vertical-align: middle;\n",
       "    }\n",
       "\n",
       "    .dataframe tbody tr th {\n",
       "        vertical-align: top;\n",
       "    }\n",
       "\n",
       "    .dataframe thead th {\n",
       "        text-align: right;\n",
       "    }\n",
       "</style>\n",
       "<table border=\"1\" class=\"dataframe\">\n",
       "  <thead>\n",
       "    <tr style=\"text-align: right;\">\n",
       "      <th></th>\n",
       "      <th>0</th>\n",
       "      <th>1</th>\n",
       "      <th>2</th>\n",
       "      <th>3</th>\n",
       "      <th>4</th>\n",
       "      <th>5</th>\n",
       "      <th>6</th>\n",
       "      <th>7</th>\n",
       "      <th>8</th>\n",
       "      <th>9</th>\n",
       "      <th>...</th>\n",
       "      <th>3302</th>\n",
       "      <th>3303</th>\n",
       "      <th>3304</th>\n",
       "      <th>3305</th>\n",
       "      <th>3306</th>\n",
       "      <th>3307</th>\n",
       "      <th>3308</th>\n",
       "      <th>3309</th>\n",
       "      <th>3310</th>\n",
       "      <th>3311</th>\n",
       "    </tr>\n",
       "  </thead>\n",
       "  <tbody>\n",
       "    <tr>\n",
       "      <th>0</th>\n",
       "      <td>3.824254</td>\n",
       "      <td>1.923762</td>\n",
       "      <td>1.918450</td>\n",
       "      <td>2.352067</td>\n",
       "      <td>3.117298</td>\n",
       "      <td>3.051735</td>\n",
       "      <td>3.307977</td>\n",
       "      <td>3.430222</td>\n",
       "      <td>3.586667</td>\n",
       "      <td>3.605218</td>\n",
       "      <td>...</td>\n",
       "      <td>1.836830</td>\n",
       "      <td>1.855640</td>\n",
       "      <td>1.142389</td>\n",
       "      <td>2.054345</td>\n",
       "      <td>2.808224</td>\n",
       "      <td>1.782186</td>\n",
       "      <td>2.665703</td>\n",
       "      <td>2.468214</td>\n",
       "      <td>2.478581</td>\n",
       "      <td>2.308842</td>\n",
       "    </tr>\n",
       "    <tr>\n",
       "      <th>1</th>\n",
       "      <td>3.904190</td>\n",
       "      <td>2.309524</td>\n",
       "      <td>2.152930</td>\n",
       "      <td>NaN</td>\n",
       "      <td>3.532368</td>\n",
       "      <td>3.524866</td>\n",
       "      <td>3.677791</td>\n",
       "      <td>3.636671</td>\n",
       "      <td>3.696868</td>\n",
       "      <td>3.716764</td>\n",
       "      <td>...</td>\n",
       "      <td>1.951532</td>\n",
       "      <td>1.442323</td>\n",
       "      <td>1.000000</td>\n",
       "      <td>2.127914</td>\n",
       "      <td>2.979658</td>\n",
       "      <td>1.961089</td>\n",
       "      <td>2.519027</td>\n",
       "      <td>2.054383</td>\n",
       "      <td>2.689903</td>\n",
       "      <td>2.090928</td>\n",
       "    </tr>\n",
       "    <tr>\n",
       "      <th>2</th>\n",
       "      <td>3.750908</td>\n",
       "      <td>1.161068</td>\n",
       "      <td>1.017033</td>\n",
       "      <td>2.347993</td>\n",
       "      <td>3.381889</td>\n",
       "      <td>3.393096</td>\n",
       "      <td>3.509134</td>\n",
       "      <td>3.512466</td>\n",
       "      <td>3.622203</td>\n",
       "      <td>3.603050</td>\n",
       "      <td>...</td>\n",
       "      <td>1.000000</td>\n",
       "      <td>1.584105</td>\n",
       "      <td>1.000000</td>\n",
       "      <td>1.945321</td>\n",
       "      <td>3.257004</td>\n",
       "      <td>1.965061</td>\n",
       "      <td>2.536066</td>\n",
       "      <td>1.449324</td>\n",
       "      <td>2.605230</td>\n",
       "      <td>1.368659</td>\n",
       "    </tr>\n",
       "    <tr>\n",
       "      <th>3</th>\n",
       "      <td>3.809383</td>\n",
       "      <td>1.912355</td>\n",
       "      <td>1.856940</td>\n",
       "      <td>2.498944</td>\n",
       "      <td>3.289406</td>\n",
       "      <td>3.371232</td>\n",
       "      <td>3.541995</td>\n",
       "      <td>NaN</td>\n",
       "      <td>3.473179</td>\n",
       "      <td>3.628930</td>\n",
       "      <td>...</td>\n",
       "      <td>1.869965</td>\n",
       "      <td>1.481658</td>\n",
       "      <td>1.000000</td>\n",
       "      <td>2.155032</td>\n",
       "      <td>3.270371</td>\n",
       "      <td>1.928473</td>\n",
       "      <td>2.618074</td>\n",
       "      <td>2.154013</td>\n",
       "      <td>2.530046</td>\n",
       "      <td>2.185514</td>\n",
       "    </tr>\n",
       "    <tr>\n",
       "      <th>4</th>\n",
       "      <td>3.893561</td>\n",
       "      <td>2.094192</td>\n",
       "      <td>1.881271</td>\n",
       "      <td>2.785707</td>\n",
       "      <td>3.344339</td>\n",
       "      <td>3.274417</td>\n",
       "      <td>3.485872</td>\n",
       "      <td>3.516527</td>\n",
       "      <td>3.642358</td>\n",
       "      <td>3.688235</td>\n",
       "      <td>...</td>\n",
       "      <td>1.480725</td>\n",
       "      <td>1.510545</td>\n",
       "      <td>1.000000</td>\n",
       "      <td>2.094192</td>\n",
       "      <td>3.246666</td>\n",
       "      <td>1.824516</td>\n",
       "      <td>2.562317</td>\n",
       "      <td>1.942256</td>\n",
       "      <td>2.598517</td>\n",
       "      <td>1.764624</td>\n",
       "    </tr>\n",
       "  </tbody>\n",
       "</table>\n",
       "<p>5 rows × 3312 columns</p>\n",
       "</div>"
      ],
      "text/plain": [
       "       0         1         2         3         4         5         6     \\\n",
       "0  3.824254  1.923762  1.918450  2.352067  3.117298  3.051735  3.307977   \n",
       "1  3.904190  2.309524  2.152930       NaN  3.532368  3.524866  3.677791   \n",
       "2  3.750908  1.161068  1.017033  2.347993  3.381889  3.393096  3.509134   \n",
       "3  3.809383  1.912355  1.856940  2.498944  3.289406  3.371232  3.541995   \n",
       "4  3.893561  2.094192  1.881271  2.785707  3.344339  3.274417  3.485872   \n",
       "\n",
       "       7         8         9     ...      3302      3303      3304      3305  \\\n",
       "0  3.430222  3.586667  3.605218  ...  1.836830  1.855640  1.142389  2.054345   \n",
       "1  3.636671  3.696868  3.716764  ...  1.951532  1.442323  1.000000  2.127914   \n",
       "2  3.512466  3.622203  3.603050  ...  1.000000  1.584105  1.000000  1.945321   \n",
       "3       NaN  3.473179  3.628930  ...  1.869965  1.481658  1.000000  2.155032   \n",
       "4  3.516527  3.642358  3.688235  ...  1.480725  1.510545  1.000000  2.094192   \n",
       "\n",
       "       3306      3307      3308      3309      3310      3311  \n",
       "0  2.808224  1.782186  2.665703  2.468214  2.478581  2.308842  \n",
       "1  2.979658  1.961089  2.519027  2.054383  2.689903  2.090928  \n",
       "2  3.257004  1.965061  2.536066  1.449324  2.605230  1.368659  \n",
       "3  3.270371  1.928473  2.618074  2.154013  2.530046  2.185514  \n",
       "4  3.246666  1.824516  2.562317  1.942256  2.598517  1.764624  \n",
       "\n",
       "[5 rows x 3312 columns]"
      ]
     },
     "execution_count": 39,
     "metadata": {},
     "output_type": "execute_result"
    }
   ],
   "source": [
    "train.head()"
   ]
  },
  {
   "cell_type": "code",
   "execution_count": 40,
   "metadata": {},
   "outputs": [
    {
     "data": {
      "image/png": "[encoded data removed]",
      "text/plain": [
       "<Figure size 1000x1000 with 2 Axes>"
      ]
     },
     "metadata": {},
     "output_type": "display_data"
    }
   ],
   "source": [
    "features_histograms_mean_std(train)"
   ]
  },
  {
   "cell_type": "code",
   "execution_count": 41,
   "metadata": {},
   "outputs": [
    {
     "name": "stdout",
     "output_type": "stream",
     "text": [
      "Missing value count: 9936\n",
      "Number of categories: 5\n"
     ]
    }
   ],
   "source": [
    "print(\"Missing value count:\",  train.isna().sum().sum())\n",
    "print(\"Number of categories:\",(len(target[0].unique())))"
   ]
  },
  {
   "cell_type": "code",
   "execution_count": 42,
   "metadata": {},
   "outputs": [],
   "source": [
    "# from sklearn.model_selection import train_test_split\n",
    "# from sklearn.preprocessing import scale\n",
    "# from sklearn.decomposition import PCA\n",
    "# train_test_split\n",
    "\n",
    "# n=150\n",
    "# # do PCA dim reduction to 5\n",
    "# pca = PCA(n_components=n)\n",
    "# pca_evr = pca.fit(scale(train))\n",
    "\n",
    "# pca_evr = (pca.explained_variance_ratio_)\n",
    "\n",
    "\n",
    "\n",
    "# pca_evr = np.concatenate((np.zeros(1), pca_evr))\n",
    "# plt.plot(list(range(n+1)),np.cumsum(pca_evr), color = 'black')\n",
    "# plt.xlabel('Number of components')\n",
    "# plt.ylabel('Cumulative explained variance')\n",
    "# plt.title(\"PCA - Cumulative Explained Variance Ratio\")\n",
    "# plt.grid()\n",
    "# print(np.cumsum(pca_evr))"
   ]
  },
  {
   "cell_type": "code",
   "execution_count": 49,
   "metadata": {},
   "outputs": [
    {
     "name": "stderr",
     "output_type": "stream",
     "text": [
      "c:\\ProgramData\\miniconda3\\envs\\dsci\\Lib\\site-packages\\sklearn\\model_selection\\_split.py:700: UserWarning: The least populated class in y has only 3 members, which is less than n_splits=5.\n",
      "  warnings.warn(\n"
     ]
    },
    {
     "data": {
      "text/plain": [
       "array([0.82222222, 0.9637037 , 0.847343  , 0.85333333, 0.9503876 ])"
      ]
     },
     "execution_count": 49,
     "metadata": {},
     "output_type": "execute_result"
    }
   ],
   "source": [
    "# raise KeyError\n",
    "clf = Pipeline([\n",
    "  ('imputation', KNNImputer(n_neighbors=3, weights='distance')),\n",
    "  ('classification', RandomForestClassifier())\n",
    "])\n",
    "# clf.fit(train.values, target.values.flatten())\n",
    "# Test Random Forest\n",
    "scores = cross_val_score(clf, X, y, scoring='f1_weighted',  cv=5)\n",
    "scores\n"
   ]
  },
  {
   "cell_type": "code",
   "execution_count": 44,
   "metadata": {},
   "outputs": [],
   "source": [
    "# clf = LassoCV().fit(X, y)\n",
    "# importance = np.abs(clf.coef_)\n",
    "# idx_third = importance.argsort()[-3]\n",
    "# threshold = importance[idx_third] + 0.01\n",
    "\n",
    "# idx_features = (-importance).argsort()[:2]\n",
    "# # name_features = np.array(feature_names)[idx_features]\n",
    "# print('Selected features: {}'.format(idx_features))\n",
    "\n",
    "# sfm = SelectFromModel(clf, threshold=threshold)\n",
    "# sfm.fit(X, y)\n",
    "# X_transform = sfm.transform(X)\n",
    "\n",
    "# n_features = sfm.transform(X).shape[1]"
   ]
  },
  {
   "cell_type": "code",
   "execution_count": 48,
   "metadata": {},
   "outputs": [
    {
     "name": "stderr",
     "output_type": "stream",
     "text": [
      "c:\\ProgramData\\miniconda3\\envs\\dsci\\Lib\\site-packages\\sklearn\\model_selection\\_split.py:700: UserWarning: The least populated class in y has only 3 members, which is less than n_splits=5.\n",
      "  warnings.warn(\n"
     ]
    },
    {
     "data": {
      "text/plain": [
       "array([1.        , 0.96866002, 0.847343  , 0.91262626, 0.9503876 ])"
      ]
     },
     "execution_count": 48,
     "metadata": {},
     "output_type": "execute_result"
    }
   ],
   "source": [
    "\n",
    "# knn = KNeighborsClassifier(7, p=3000, weights='distance',n_jobs = -1)\n",
    "# knn.fit( MinMaxScaler(feature_range=(0, 1)).fit_transform(train.values), target.values)\n",
    "knn = Pipeline(\n",
    "    [\n",
    "        ('Imputer', KNNImputer(n_neighbors=3, weights='distance')),\n",
    "        ('Scaler', MinMaxScaler(feature_range=(0, 1))),\n",
    "        ('KNN', KNeighborsClassifier(5, weights='distance',)),\n",
    "    ]\n",
    ")\n",
    "\n",
    "# score = cross_val_score(knn, MinMaxScaler(feature_range=(0, 1)).fit_transform(X), y, cv=3)\n",
    "score = cross_val_score(knn, X, y,scoring='f1_weighted', cv=5)\n",
    "score"
   ]
  }
 ],
 "metadata": {
  "kernelspec": {
   "display_name": "dsci",
   "language": "python",
   "name": "python3"
  },
  "language_info": {
   "codemirror_mode": {
    "name": "ipython",
    "version": 3
   },
   "file_extension": ".py",
   "mimetype": "text/x-python",
   "name": "python",
   "nbconvert_exporter": "python",
   "pygments_lexer": "ipython3",
   "version": "3.11.4"
  },
  "orig_nbformat": 4
 },
 "nbformat": 4,
 "nbformat_minor": 2
}
