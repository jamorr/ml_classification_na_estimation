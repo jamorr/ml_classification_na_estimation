{
 "cells": [
  {
   "cell_type": "markdown",
   "metadata": {},
   "source": [
    "# 1 2 - Jack\n",
    "# 3 4 5 - Jayden\n",
    "Explain why we chose a given algorithm not how the algorithm works"
   ]
  },
  {
   "cell_type": "code",
   "execution_count": 15,
   "metadata": {},
   "outputs": [
    {
     "name": "stderr",
     "output_type": "stream",
     "text": [
      "Intel(R) Extension for Scikit-learn* enabled (https://github.com/intel/scikit-learn-intelex)\n"
     ]
    }
   ],
   "source": [
    "import pandas as pd\n",
    "import numpy as np\n",
    "import seaborn as sns\n",
    "import matplotlib.pyplot as plt\n",
    "from utils import read_classification_dataset, features_histograms_mean_std\n",
    "# import sklearn\n",
    "from sklearnex import patch_sklearn\n",
    "from sklearn.calibration import LinearSVC\n",
    "from sklearn.ensemble import RandomForestClassifier\n",
    "from sklearn.feature_selection import SelectFromModel\n",
    "from sklearn.pipeline import Pipeline\n",
    "from sklearn.metrics import classification_report,ConfusionMatrixDisplay\n",
    "from sklearn.neighbors import KNeighborsClassifier\n",
    "from sklearn.preprocessing import MinMaxScaler, StandardScaler\n",
    "from sklearn.model_selection import cross_val_score\n",
    "from sklearn.experimental import enable_iterative_imputer\n",
    "from sklearn.impute import IterativeImputer, SimpleImputer, KNNImputer\n",
    "from sklearn.decomposition import PCA\n",
    "from sklearn.model_selection import GridSearchCV\n",
    "\n",
    "from kneed import KneeLocator\n",
    "\n",
    "patch_sklearn()\n"
   ]
  },
  {
   "cell_type": "code",
   "execution_count": 16,
   "metadata": {},
   "outputs": [
    {
     "name": "stdout",
     "output_type": "stream",
     "text": [
      "c:\\Users\\Morri\\Documents\\Notebooks\\ML\\Project\n"
     ]
    },
    {
     "name": "stderr",
     "output_type": "stream",
     "text": [
      "c:\\Users\\Morri\\Documents\\Notebooks\\ML\\.venv\\Lib\\site-packages\\sklearn\\model_selection\\_split.py:737: UserWarning: The least populated class in y has only 3 members, which is less than n_splits=5.\n",
      "  warnings.warn(\n"
     ]
    },
    {
     "name": "stdout",
     "output_type": "stream",
     "text": [
      "dataset 1 weighted F1 score 5 fold cv:  [1.         0.96866002 0.89555556 0.91262626 0.9503876 ]\n",
      "mean: 0.945\n",
      "median: 0.969\n",
      "std: 0.038\n",
      "c:\\Users\\Morri\\Documents\\Notebooks\\ML\\Project\n",
      "dataset 2 weighted F1 score 5 fold cv:  [0.93       0.89666667 0.84666667 0.58666667 0.83333333]\n",
      "mean: 0.819\n",
      "median: 0.897\n",
      "std: 0.121\n",
      "c:\\Users\\Morri\\Documents\\Notebooks\\ML\\Project\n",
      "dataset 3 weighted F1 score 5 fold cv:  [0.27594564 0.24559458 0.28446243 0.26068096 0.26436301]\n",
      "mean: 0.266\n",
      "median: 0.276\n",
      "std: 0.013\n",
      "c:\\Users\\Morri\\Documents\\Notebooks\\ML\\Project\n",
      "dataset 4 weighted F1 score 5 fold cv:  [0.8001186  0.65752045 0.64975154 0.56101407 0.42992551]\n",
      "mean: 0.620\n",
      "median: 0.658\n",
      "std: 0.122\n",
      "c:\\Users\\Morri\\Documents\\Notebooks\\ML\\Project\n",
      "dataset 5 weighted F1 score 5 fold cv:  [0.41752807 0.48990801 0.50588167 0.48642254 0.53146975]\n",
      "mean: 0.486\n",
      "median: 0.506\n",
      "std: 0.038\n"
     ]
    },
    {
     "data": {
      "text/plain": [
       "[array([2, 1, 1, 1, 1, 2, 1, 1, 3, 1, 3, 1, 1, 1, 4, 1, 1, 1, 1, 1, 1, 4,\n",
       "        3, 3, 4, 1, 5, 4, 1, 3, 1, 1, 4, 1, 1, 1, 1, 4, 3, 5, 3, 1, 4, 1,\n",
       "        1, 1, 1, 1, 1, 1, 1, 1, 1], dtype=int64),\n",
       " array([ 3, 11,  2,  4,  8,  8,  8,  8,  4,  8, 10, 11,  1,  1, 10,  8,  6,\n",
       "         3,  8,  9,  4,  4,  4,  4,  4,  4,  4,  4,  4,  4, 10, 11, 10, 11,\n",
       "         4, 10, 11,  3,  3,  3,  3,  3,  3,  3,  2,  8,  1,  1,  1,  1,  1,\n",
       "         1,  1,  1,  1,  1,  1,  1,  1,  1,  8,  8,  8,  8,  8,  8,  8,  8,\n",
       "        11,  8, 10,  8,  8,  8], dtype=int64),\n",
       " array([8, 8, 1, ..., 2, 7, 4], dtype=int64),\n",
       " array([1, 1, 1, ..., 8, 8, 8], dtype=int64),\n",
       " array([5, 5, 5, 6, 5, 6, 5, 5, 6, 5, 5, 5, 7, 5, 5, 5, 5, 5, 5, 7, 6, 5,\n",
       "        6, 5, 5, 5, 5, 6, 5, 5, 5, 5, 5, 5, 5, 6, 5, 6, 5, 5, 5, 5, 6, 5,\n",
       "        5, 5, 6, 6, 5, 5, 5, 6, 5, 6, 6, 5, 5, 5, 5, 5, 6, 5, 6, 6, 5, 5,\n",
       "        6, 7, 6, 5, 6, 6, 5, 6, 6, 6, 5, 7, 6, 5, 3, 6, 6, 6, 7, 5, 6, 6,\n",
       "        6, 6, 5, 6, 5, 7, 5, 6, 6, 7, 6, 6, 5, 8, 5, 6, 5, 7, 6, 7, 7, 7,\n",
       "        6, 5, 5, 5, 5, 5, 5, 6, 5, 5, 6, 5, 5, 6, 7, 5, 6, 6, 6, 7, 6, 5,\n",
       "        6, 6, 5, 6, 7, 6, 7, 6, 6, 5, 6, 6, 7, 7, 7, 6, 4, 7, 5, 6, 6, 6,\n",
       "        5, 6, 6, 6, 7, 8, 6, 6, 6, 6, 4, 5, 5, 5, 5, 6, 6, 6, 6, 7, 5, 5,\n",
       "        5, 5, 6, 7, 6, 5, 6, 5, 6, 7, 6, 6, 5, 5, 6, 5, 5, 6, 6, 6, 5, 5,\n",
       "        5, 6, 5, 5, 5, 5, 6, 5, 6, 5, 5, 4, 5, 6, 6, 5, 5, 5, 5, 6, 6, 5,\n",
       "        5, 6, 5, 6, 6, 6, 5, 6, 5, 5, 5, 6, 5, 6, 5, 5, 6, 5, 6, 5, 5, 5,\n",
       "        5, 6, 7, 6, 5, 5, 6, 6, 6, 5, 6, 6, 6, 5, 6, 5, 5, 6, 5, 7, 6, 5,\n",
       "        7, 5, 6, 6, 6, 6, 6, 6, 6, 6, 6, 5, 5, 5, 7, 7, 6, 7, 5, 5, 7, 5,\n",
       "        7, 6, 6, 6, 7, 6, 6, 5, 6, 5, 6, 7, 5, 5, 5, 6, 5, 7, 7, 7, 7, 7,\n",
       "        7, 5, 6, 7, 6, 6, 5, 6, 6, 6, 7, 6, 5, 6, 7, 7, 4, 5, 6, 7, 6, 6,\n",
       "        7, 6, 5, 5, 6, 7, 6, 7, 7, 7, 6, 5, 6, 6, 6, 6, 5, 6, 6, 6, 6, 7,\n",
       "        6, 5, 5, 6, 7, 5, 5, 5, 6, 6, 6, 6, 6, 6, 6, 6, 6, 6, 7, 5, 5, 5,\n",
       "        5, 7, 5, 5, 6, 5, 6, 5, 6, 5, 6, 6, 5, 5, 5, 6, 5, 6, 7, 6, 5, 5,\n",
       "        5, 6, 6, 6, 5, 7, 6, 6, 5, 6, 5, 5, 5, 5, 5, 5, 6, 7, 6, 5, 5, 5,\n",
       "        6, 5, 6, 6, 8, 6, 6, 6, 5, 5, 5, 6, 6, 6, 5, 6, 8, 6, 6, 6, 6, 8,\n",
       "        6, 7, 3, 6, 6, 5, 5, 7, 5, 7, 7, 6, 7, 6, 6, 7, 6, 5, 6, 6, 6, 6,\n",
       "        6, 6, 6, 5, 5, 6, 6, 5, 5, 7, 6, 5, 6, 6, 6, 6, 6, 5], dtype=int64)]"
      ]
     },
     "execution_count": 16,
     "metadata": {},
     "output_type": "execute_result"
    }
   ],
   "source": [
    "# KNN Scores\n",
    "knn = Pipeline(\n",
    "    [\n",
    "        ('Scaler', MinMaxScaler(feature_range=(0, 1))),\n",
    "        ('Imputer', KNNImputer(n_neighbors=3, weights='distance')),\n",
    "        ('KNN', KNeighborsClassifier(3, weights='distance',)),\n",
    "    ]\n",
    ")\n",
    "def test_model_on_all_data(model, data:list=list(range(1,6))):\n",
    "    predicitons = []\n",
    "    for i in data:\n",
    "        try:\n",
    "            train, target, test = read_classification_dataset(i)\n",
    "            X, y = train.values, target.values.flatten()\n",
    "            score = cross_val_score(model, X, y,scoring='f1_weighted', cv=5)\n",
    "            print(f\"dataset {i} weighted F1 score 5 fold cv: \",score)\n",
    "            score.sort()\n",
    "            print(f\"mean: {score.mean():.3f}\", )\n",
    "            print(f\"median: {score[len(score)//2+1]:.3f}\", )\n",
    "            print(f\"std: {score.std():.3f}\", )\n",
    "\n",
    "            predicitons.append(model.fit(train, np.ravel(target)).predict(test.values))\n",
    "\n",
    "        except ValueError as e:\n",
    "            print(e)\n",
    "    return predicitons\n",
    "\n",
    "def test_model_on_data(model, data_set_number:int):\n",
    "    try:\n",
    "        train, target, test = read_classification_dataset(data_set_number)\n",
    "        X, y = train.values, target.values.flatten()\n",
    "        score = cross_val_score(model, X, y,scoring='f1_weighted', cv=5)\n",
    "        print(f\"dataset {data_set_number} weighted F1 score 5 fold cv: \",score)\n",
    "        predicitons = model.fit(train, np.ravel(target)).predict(test.values)\n",
    "        return predicitons\n",
    "\n",
    "    except ValueError as e:\n",
    "        print(e)\n",
    "\n",
    "test_model_on_all_data(knn)\n",
    "\n",
    "    # else:\n",
    "    #     display(train.dtypes)\n",
    "    #     display(train.head())"
   ]
  },
  {
   "cell_type": "code",
   "execution_count": 17,
   "metadata": {},
   "outputs": [
    {
     "name": "stdout",
     "output_type": "stream",
     "text": [
      "c:\\Users\\Morri\\Documents\\Notebooks\\ML\\Project\n"
     ]
    },
    {
     "name": "stderr",
     "output_type": "stream",
     "text": [
      "c:\\Users\\Morri\\Documents\\Notebooks\\ML\\.venv\\Lib\\site-packages\\sklearn\\model_selection\\_split.py:737: UserWarning: The least populated class in y has only 3 members, which is less than n_splits=5.\n",
      "  warnings.warn(\n"
     ]
    },
    {
     "name": "stdout",
     "output_type": "stream",
     "text": [
      "dataset 1 weighted F1 score 5 fold cv:  [1.         0.96866002 0.89555556 0.91262626 0.9503876 ]\n",
      "mean: 0.945\n",
      "median: 0.969\n",
      "std: 0.038\n",
      "c:\\Users\\Morri\\Documents\\Notebooks\\ML\\Project\n",
      "dataset 2 weighted F1 score 5 fold cv:  [0.93       0.89666667 0.84666667 0.58666667 0.83333333]\n",
      "mean: 0.819\n",
      "median: 0.897\n",
      "std: 0.121\n",
      "c:\\Users\\Morri\\Documents\\Notebooks\\ML\\Project\n",
      "dataset 3 weighted F1 score 5 fold cv:  [0.27594564 0.24559458 0.28446243 0.26068096 0.26436301]\n",
      "mean: 0.266\n",
      "median: 0.276\n",
      "std: 0.013\n",
      "c:\\Users\\Morri\\Documents\\Notebooks\\ML\\Project\n",
      "dataset 4 weighted F1 score 5 fold cv:  [0.8001186  0.65752045 0.64975154 0.56101407 0.42992551]\n",
      "mean: 0.620\n",
      "median: 0.658\n",
      "std: 0.122\n",
      "c:\\Users\\Morri\\Documents\\Notebooks\\ML\\Project\n",
      "dataset 5 weighted F1 score 5 fold cv:  [0.41752807 0.48990801 0.50588167 0.48642254 0.53146975]\n",
      "mean: 0.486\n",
      "median: 0.506\n",
      "std: 0.038\n"
     ]
    },
    {
     "data": {
      "text/plain": [
       "[array([2, 1, 1, 1, 1, 2, 1, 1, 3, 1, 3, 1, 1, 1, 4, 1, 1, 1, 1, 1, 1, 4,\n",
       "        3, 3, 4, 1, 5, 4, 1, 3, 1, 1, 4, 1, 1, 1, 1, 4, 3, 5, 3, 1, 4, 1,\n",
       "        1, 1, 1, 1, 1, 1, 1, 1, 1], dtype=int64),\n",
       " array([ 3, 11,  2,  4,  8,  8,  8,  8,  4,  8, 10, 11,  1,  1, 10,  8,  6,\n",
       "         3,  8,  9,  4,  4,  4,  4,  4,  4,  4,  4,  4,  4, 10, 11, 10, 11,\n",
       "         4, 10, 11,  3,  3,  3,  3,  3,  3,  3,  2,  8,  1,  1,  1,  1,  1,\n",
       "         1,  1,  1,  1,  1,  1,  1,  1,  1,  8,  8,  8,  8,  8,  8,  8,  8,\n",
       "        11,  8, 10,  8,  8,  8], dtype=int64),\n",
       " array([8, 8, 1, ..., 2, 7, 4], dtype=int64),\n",
       " array([1, 1, 1, ..., 8, 8, 8], dtype=int64),\n",
       " array([5, 5, 5, 6, 5, 6, 5, 5, 6, 5, 5, 5, 7, 5, 5, 5, 5, 5, 5, 7, 6, 5,\n",
       "        6, 5, 5, 5, 5, 6, 5, 5, 5, 5, 5, 5, 5, 6, 5, 6, 5, 5, 5, 5, 6, 5,\n",
       "        5, 5, 6, 6, 5, 5, 5, 6, 5, 6, 6, 5, 5, 5, 5, 5, 6, 5, 6, 6, 5, 5,\n",
       "        6, 7, 6, 5, 6, 6, 5, 6, 6, 6, 5, 7, 6, 5, 3, 6, 6, 6, 7, 5, 6, 6,\n",
       "        6, 6, 5, 6, 5, 7, 5, 6, 6, 7, 6, 6, 5, 8, 5, 6, 5, 7, 6, 7, 7, 7,\n",
       "        6, 5, 5, 5, 5, 5, 5, 6, 5, 5, 6, 5, 5, 6, 7, 5, 6, 6, 6, 7, 6, 5,\n",
       "        6, 6, 5, 6, 7, 6, 7, 6, 6, 5, 6, 6, 7, 7, 7, 6, 4, 7, 5, 6, 6, 6,\n",
       "        5, 6, 6, 6, 7, 8, 6, 6, 6, 6, 4, 5, 5, 5, 5, 6, 6, 6, 6, 7, 5, 5,\n",
       "        5, 5, 6, 7, 6, 5, 6, 5, 6, 7, 6, 6, 5, 5, 6, 5, 5, 6, 6, 6, 5, 5,\n",
       "        5, 6, 5, 5, 5, 5, 6, 5, 6, 5, 5, 4, 5, 6, 6, 5, 5, 5, 5, 6, 6, 5,\n",
       "        5, 6, 5, 6, 6, 6, 5, 6, 5, 5, 5, 6, 5, 6, 5, 5, 6, 5, 6, 5, 5, 5,\n",
       "        5, 6, 7, 6, 5, 5, 6, 6, 6, 5, 6, 6, 6, 5, 6, 5, 5, 6, 5, 7, 6, 5,\n",
       "        7, 5, 6, 6, 6, 6, 6, 6, 6, 6, 6, 5, 5, 5, 7, 7, 6, 7, 5, 5, 7, 5,\n",
       "        7, 6, 6, 6, 7, 6, 6, 5, 6, 5, 6, 7, 5, 5, 5, 6, 5, 7, 7, 7, 7, 7,\n",
       "        7, 5, 6, 7, 6, 6, 5, 6, 6, 6, 7, 6, 5, 6, 7, 7, 4, 5, 6, 7, 6, 6,\n",
       "        7, 6, 5, 5, 6, 7, 6, 7, 7, 7, 6, 5, 6, 6, 6, 6, 5, 6, 6, 6, 6, 7,\n",
       "        6, 5, 5, 6, 7, 5, 5, 5, 6, 6, 6, 6, 6, 6, 6, 6, 6, 6, 7, 5, 5, 5,\n",
       "        5, 7, 5, 5, 6, 5, 6, 5, 6, 5, 6, 6, 5, 5, 5, 6, 5, 6, 7, 6, 5, 5,\n",
       "        5, 6, 6, 6, 5, 7, 6, 6, 5, 6, 5, 5, 5, 5, 5, 5, 6, 7, 6, 5, 5, 5,\n",
       "        6, 5, 6, 6, 8, 6, 6, 6, 5, 5, 5, 6, 6, 6, 5, 6, 8, 6, 6, 6, 6, 8,\n",
       "        6, 7, 3, 6, 6, 5, 5, 7, 5, 7, 7, 6, 7, 6, 6, 7, 6, 5, 6, 6, 6, 6,\n",
       "        6, 6, 6, 5, 5, 6, 6, 5, 5, 7, 6, 5, 6, 6, 6, 6, 6, 5], dtype=int64)]"
      ]
     },
     "execution_count": 17,
     "metadata": {},
     "output_type": "execute_result"
    }
   ],
   "source": [
    "knn2 = Pipeline(\n",
    "    [\n",
    "        ('Scaler', StandardScaler()),\n",
    "        ('Imputer', KNNImputer(n_neighbors=3, weights='distance')),\n",
    "        ('KNN', KNeighborsClassifier(3, weights='distance',)),\n",
    "    ]\n",
    ")\n",
    "test_model_on_all_data(knn)\n"
   ]
  },
  {
   "cell_type": "code",
   "execution_count": 18,
   "metadata": {},
   "outputs": [],
   "source": [
    "# print(\"Missing value count:\",  train.isna().sum().sum())\n",
    "# print(\"Number of categories:\",(len(target[0].unique())))"
   ]
  },
  {
   "cell_type": "code",
   "execution_count": 20,
   "metadata": {},
   "outputs": [
    {
     "name": "stdout",
     "output_type": "stream",
     "text": [
      "c:\\Users\\Morri\\Documents\\Notebooks\\ML\\Project\n"
     ]
    },
    {
     "name": "stderr",
     "output_type": "stream",
     "text": [
      "c:\\Users\\Morri\\Documents\\Notebooks\\ML\\.venv\\Lib\\site-packages\\sklearn\\model_selection\\_split.py:737: UserWarning: The least populated class in y has only 3 members, which is less than n_splits=5.\n",
      "  warnings.warn(\n"
     ]
    },
    {
     "name": "stdout",
     "output_type": "stream",
     "text": [
      "dataset 1 weighted F1 score 5 fold cv:  [0.82222222 0.85319149 0.847343   0.85333333 0.85333333]\n",
      "mean: 0.846\n",
      "median: 0.853\n",
      "std: 0.012\n",
      "c:\\Users\\Morri\\Documents\\Notebooks\\ML\\Project\n",
      "dataset 2 weighted F1 score 5 fold cv:  [0.93       0.855      0.89333333 0.7452381  0.8752381 ]\n",
      "mean: 0.860\n",
      "median: 0.893\n",
      "std: 0.062\n",
      "c:\\Users\\Morri\\Documents\\Notebooks\\ML\\Project\n",
      "dataset 3 weighted F1 score 5 fold cv:  [0.29905412 0.28003981 0.31143939 0.2990342  0.29933837]\n",
      "mean: 0.298\n",
      "median: 0.299\n",
      "std: 0.010\n",
      "c:\\Users\\Morri\\Documents\\Notebooks\\ML\\Project\n",
      "dataset 4 weighted F1 score 5 fold cv:  [0.82856483 0.75930685 0.72947445 0.75017846 0.50457118]\n",
      "mean: 0.714\n",
      "median: 0.759\n",
      "std: 0.110\n",
      "c:\\Users\\Morri\\Documents\\Notebooks\\ML\\Project\n",
      "dataset 5 weighted F1 score 5 fold cv:  [0.50908401 0.62008477 0.5963108  0.55818125 0.59032518]\n",
      "mean: 0.575\n",
      "median: 0.596\n",
      "std: 0.038\n"
     ]
    },
    {
     "data": {
      "text/plain": [
       "[array([2, 1, 1, 1, 1, 2, 1, 1, 3, 2, 3, 1, 1, 1, 4, 1, 1, 1, 1, 1, 1, 4,\n",
       "        1, 1, 4, 1, 1, 4, 1, 1, 1, 1, 4, 1, 1, 1, 1, 4, 3, 1, 1, 1, 4, 1,\n",
       "        1, 1, 1, 1, 1, 1, 1, 1, 1], dtype=int64),\n",
       " array([ 2, 11, 10,  4,  8,  4,  8,  8,  4,  3,  2, 11,  1,  1,  2,  3, 10,\n",
       "         3,  8,  3,  4,  4,  4,  4,  4,  5,  4,  5,  5,  4, 10, 11, 11, 11,\n",
       "         8, 10, 11,  3,  8,  3,  3,  3,  3,  3,  3,  3,  1,  1,  1,  1,  1,\n",
       "         1,  1,  1,  1,  1,  1,  1,  1,  1,  8,  8,  8,  8, 11,  8,  8,  8,\n",
       "         8,  8,  3,  8,  8,  8], dtype=int64),\n",
       " array([9, 8, 1, ..., 2, 7, 5], dtype=int64),\n",
       " array([1, 1, 1, ..., 8, 8, 8], dtype=int64),\n",
       " array([5, 5, 5, 5, 5, 5, 5, 5, 5, 5, 5, 5, 6, 5, 5, 5, 5, 5, 5, 6, 6, 5,\n",
       "        6, 5, 5, 5, 5, 6, 5, 5, 5, 5, 5, 5, 5, 6, 5, 6, 5, 5, 5, 5, 5, 5,\n",
       "        5, 5, 5, 6, 5, 5, 5, 6, 5, 5, 6, 5, 5, 5, 5, 5, 5, 5, 5, 6, 5, 5,\n",
       "        5, 6, 5, 5, 5, 6, 5, 6, 6, 6, 5, 7, 6, 5, 5, 5, 6, 6, 7, 5, 6, 6,\n",
       "        6, 6, 5, 6, 5, 7, 5, 6, 6, 6, 6, 6, 7, 6, 7, 6, 5, 6, 6, 7, 7, 7,\n",
       "        6, 5, 5, 5, 5, 5, 5, 6, 5, 6, 7, 6, 5, 6, 7, 5, 6, 6, 6, 7, 6, 5,\n",
       "        7, 5, 6, 6, 6, 6, 7, 6, 6, 6, 5, 6, 7, 7, 6, 6, 6, 7, 5, 6, 5, 6,\n",
       "        5, 5, 6, 6, 6, 6, 6, 6, 5, 6, 6, 5, 5, 5, 5, 6, 6, 5, 7, 6, 5, 5,\n",
       "        6, 5, 6, 6, 6, 5, 6, 5, 6, 7, 6, 6, 5, 5, 6, 5, 5, 5, 5, 5, 5, 5,\n",
       "        5, 5, 5, 5, 6, 5, 7, 5, 6, 5, 5, 5, 5, 6, 6, 5, 5, 5, 5, 6, 6, 6,\n",
       "        5, 5, 5, 6, 5, 5, 5, 5, 5, 5, 5, 6, 5, 5, 5, 5, 5, 5, 6, 5, 6, 6,\n",
       "        6, 6, 5, 6, 5, 5, 5, 5, 6, 6, 6, 6, 6, 5, 5, 5, 5, 6, 5, 7, 5, 5,\n",
       "        6, 5, 6, 6, 6, 6, 6, 6, 6, 6, 6, 5, 5, 5, 7, 7, 6, 7, 5, 5, 6, 7,\n",
       "        7, 6, 6, 6, 6, 6, 6, 6, 6, 6, 6, 6, 5, 5, 5, 5, 5, 6, 7, 7, 7, 7,\n",
       "        6, 5, 6, 7, 6, 6, 5, 5, 6, 6, 7, 6, 6, 6, 7, 7, 5, 5, 7, 7, 6, 6,\n",
       "        7, 6, 5, 6, 6, 6, 6, 6, 6, 6, 6, 6, 6, 6, 5, 6, 5, 5, 6, 6, 6, 6,\n",
       "        6, 5, 6, 6, 6, 5, 5, 5, 6, 6, 6, 6, 6, 6, 6, 6, 5, 6, 6, 5, 5, 5,\n",
       "        6, 6, 5, 5, 6, 5, 5, 6, 6, 5, 6, 7, 5, 5, 5, 6, 5, 6, 7, 5, 5, 5,\n",
       "        5, 6, 6, 6, 5, 6, 6, 6, 5, 5, 5, 5, 6, 5, 5, 5, 5, 7, 6, 5, 5, 5,\n",
       "        5, 6, 6, 5, 6, 6, 6, 5, 5, 5, 5, 6, 6, 6, 5, 5, 8, 5, 6, 5, 5, 8,\n",
       "        5, 7, 5, 6, 6, 5, 5, 6, 5, 6, 6, 6, 6, 5, 6, 5, 6, 5, 6, 6, 6, 6,\n",
       "        6, 6, 6, 6, 5, 6, 6, 5, 5, 7, 6, 5, 6, 6, 6, 6, 6, 6], dtype=int64)]"
      ]
     },
     "execution_count": 20,
     "metadata": {},
     "output_type": "execute_result"
    }
   ],
   "source": [
    "# random forest\n",
    "clf = Pipeline([\n",
    "    ('Scaler', StandardScaler()),\n",
    "    ('imputation', KNNImputer(n_neighbors=3, weights='distance')),\n",
    "\n",
    "    ('classification', RandomForestClassifier(\n",
    "          # max_depth=4,\n",
    "          max_features=\"log2\",\n",
    "          bootstrap=True,\n",
    "          # max_samples=1000,\n",
    "          n_jobs=-1,\n",
    "          class_weight=\"balanced_subsample\",\n",
    "          # warm_start=True,\n",
    "          random_state=51\n",
    "          ))\n",
    "])\n",
    "test_model_on_all_data(clf)\n"
   ]
  },
  {
   "cell_type": "code",
   "execution_count": 23,
   "metadata": {},
   "outputs": [],
   "source": [
    "# find optimal components for each dataset\n",
    "opt_components = []\n",
    "fig, axes = plt.subplots(5,1, sharex=False)\n",
    "fig.set_size_inches(5,20)\n",
    "for i in range(1,6):\n",
    "    train, target, test = read_classification_dataset(i)\n",
    "    X, y = train.values, target.values.flatten()\n",
    "    n = min(train.shape)\n",
    "    model = Pipeline([\n",
    "      ('Scaler', StandardScaler()),\n",
    "      ('imputation', KNNImputer(n_neighbors=3, weights='distance')),\n",
    "      (\"PCA\", PCA(n_components=n))\n",
    "    ])\n",
    "    pca = model.fit_transform(train)\n",
    "\n",
    "    pca_evr = (model.named_steps[\"PCA\"].explained_variance_ratio_)\n",
    "\n",
    "\n",
    "\n",
    "    pca_evr = np.concatenate((np.zeros(1), pca_evr))\n",
    "    indx, cum_evr  = np.arange(n+1), np.cumsum(pca_evr)\n",
    "    kneedle = KneeLocator(indx, cum_evr, direction='increasing', curve='concave', S=1.0, interp_method='polynomial', online=True)\n",
    "    print(kneedle.knee)\n",
    "    opt_components.append(kneedle.knee)\n",
    "    axes[i-1].plot(list(range(n+1)),np.cumsum(pca_evr), color = 'black')\n",
    "    axes[i-1].vlines(kneedle.knee, 0,1,'b', ':')\n",
    "    axes[i-1].set_xlabel('Number of components')\n",
    "    axes[i-1].set_ylabel('Cumulative explained variance')\n",
    "    # axes[i-1].set_title(\"PCA - Cumulative Explained Variance Ratio\")\n",
    "\n",
    "    plt.grid()\n",
    "print(opt_components)\n"
   ]
  },
  {
   "cell_type": "code",
   "execution_count": 22,
   "metadata": {},
   "outputs": [],
   "source": [
    "# clf = LassoCV().fit(X, y)\n",
    "# importance = np.abs(clf.coef_)\n",
    "# idx_third = importance.argsort()[-3]\n",
    "# threshold = importance[idx_third] + 0.01\n",
    "\n",
    "# idx_features = (-importance).argsort()[:2]\n",
    "# # name_features = np.array(feature_names)[idx_features]\n",
    "# print('Selected features: {}'.format(idx_features))\n",
    "\n",
    "# sfm = SelectFromModel(clf, threshold=threshold)\n",
    "# sfm.fit(X, y)\n",
    "# X_transform = sfm.transform(X)\n",
    "\n",
    "# n_features = sfm.transform(X).shape[1]"
   ]
  }
 ],
 "metadata": {
  "kernelspec": {
   "display_name": "dsci",
   "language": "python",
   "name": "python3"
  },
  "language_info": {
   "codemirror_mode": {
    "name": "ipython",
    "version": 3
   },
   "file_extension": ".py",
   "mimetype": "text/x-python",
   "name": "python",
   "nbconvert_exporter": "python",
   "pygments_lexer": "ipython3",
   "version": "3.11.4"
  },
  "orig_nbformat": 4
 },
 "nbformat": 4,
 "nbformat_minor": 2
}
