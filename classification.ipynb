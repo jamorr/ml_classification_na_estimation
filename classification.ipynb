{
 "cells": [
  {
   "cell_type": "markdown",
   "metadata": {},
   "source": [
    "# 1 3 5 - Jack\n",
    "# 2 4 - Jayden"
   ]
  },
  {
   "cell_type": "code",
   "execution_count": 14,
   "metadata": {},
   "outputs": [],
   "source": [
    "import pandas as pd\n",
    "import numpy as np\n",
    "import seaborn as sns\n",
    "import matplotlib.pyplot as plt\n",
    "import sklearn\n",
    "from sklearnex import patch_sklearn\n",
    "from sklearn.calibration import LinearSVC\n",
    "from sklearn.ensemble import RandomForestClassifier\n",
    "from sklearn.feature_selection import SelectFromModel\n",
    "from sklearn.pipeline import Pipeline\n",
    "from sklearn.metrics import classification_report\n",
    "from sklearn.neighbors import KNeighborsClassifier\n",
    "from sklearn.preprocessing import MinMaxScaler\n",
    "from sklearn.model_selection import cross_val_score"
   ]
  },
  {
   "cell_type": "code",
   "execution_count": 15,
   "metadata": {},
   "outputs": [
    {
     "name": "stderr",
     "output_type": "stream",
     "text": [
      "Intel(R) Extension for Scikit-learn* enabled (https://github.com/intel/scikit-learn-intelex)\n"
     ]
    }
   ],
   "source": [
    "patch_sklearn()"
   ]
  },
  {
   "cell_type": "code",
   "execution_count": 16,
   "metadata": {},
   "outputs": [],
   "source": [
    "train = pd.read_csv(\"./classify/TrainData1.txt\", header=None, sep='\\t')\n",
    "target = pd.read_csv(\"./classify/TrainLabel1.txt\",header=None, sep='\\t')\n",
    "train\n",
    "test = pd.read_csv(\"./classify/TestData1.txt\",header=None, sep='\\t')\n",
    "X, y = train.values, target.values.flatten()"
   ]
  },
  {
   "cell_type": "code",
   "execution_count": 27,
   "metadata": {},
   "outputs": [
    {
     "data": {
      "text/plain": [
       "<Axes: xlabel='std', ylabel='Count'>"
      ]
     },
     "execution_count": 27,
     "metadata": {},
     "output_type": "execute_result"
    },
    {
     "data": {
      "image/png": "[encoded data removed]",
      "text/plain": [
       "<Figure size 640x480 with 2 Axes>"
      ]
     },
     "metadata": {},
     "output_type": "display_data"
    }
   ],
   "source": [
    "stats = train.describe().T\n",
    "fig, (ax1, ax2) = plt.subplots(2,1)\n",
    "\n",
    "sns.histplot(stats['mean'], ax=ax1)\n",
    "sns.histplot(stats['std'], ax=ax2)\n"
   ]
  },
  {
   "cell_type": "code",
   "execution_count": 18,
   "metadata": {},
   "outputs": [
    {
     "name": "stdout",
     "output_type": "stream",
     "text": [
      "Missing value count: 0\n",
      "Number of categories: 5\n"
     ]
    }
   ],
   "source": [
    "print(\"Missing value count:\",  train.isna().sum().sum())\n",
    "print(\"Number of categories:\",(len(target[0].unique())))\n"
   ]
  },
  {
   "cell_type": "code",
   "execution_count": 19,
   "metadata": {},
   "outputs": [],
   "source": [
    "# from sklearn.model_selection import train_test_split\n",
    "# from sklearn.preprocessing import scale\n",
    "# from sklearn.decomposition import PCA\n",
    "# train_test_split\n",
    "\n",
    "# n=150\n",
    "# # do PCA dim reduction to 5\n",
    "# pca = PCA(n_components=n)\n",
    "# pca_evr = pca.fit(scale(train))\n",
    "\n",
    "# pca_evr = (pca.explained_variance_ratio_)\n",
    "\n",
    "\n",
    "\n",
    "# pca_evr = np.concatenate((np.zeros(1), pca_evr))\n",
    "# plt.plot(list(range(n+1)),np.cumsum(pca_evr), color = 'black')\n",
    "# plt.xlabel('Number of components')\n",
    "# plt.ylabel('Cumulative explained variance')\n",
    "# plt.title(\"PCA - Cumulative Explained Variance Ratio\")\n",
    "# plt.grid()\n",
    "# print(np.cumsum(pca_evr))"
   ]
  },
  {
   "cell_type": "code",
   "execution_count": 28,
   "metadata": {},
   "outputs": [
    {
     "name": "stderr",
     "output_type": "stream",
     "text": [
      "c:\\ProgramData\\miniconda3\\envs\\dsci\\Lib\\site-packages\\sklearn\\model_selection\\_split.py:700: UserWarning: The least populated class in y has only 3 members, which is less than n_splits=5.\n",
      "  warnings.warn(\n"
     ]
    },
    {
     "data": {
      "text/plain": [
       "array([0.86666667, 0.93333333, 0.86666667, 0.9       , 0.9       ])"
      ]
     },
     "execution_count": 28,
     "metadata": {},
     "output_type": "execute_result"
    }
   ],
   "source": [
    "clf = Pipeline([\n",
    "  ('classification', RandomForestClassifier())\n",
    "])\n",
    "# clf.fit(train.values, target.values.flatten())\n",
    "# Test Random Forest\n",
    "scores = cross_val_score(clf, X, y, cv=5)\n",
    "scores\n"
   ]
  },
  {
   "cell_type": "code",
   "execution_count": 23,
   "metadata": {},
   "outputs": [],
   "source": [
    "# clf.predict(test.values)"
   ]
  },
  {
   "cell_type": "code",
   "execution_count": null,
   "metadata": {},
   "outputs": [],
   "source": [
    "# clf = LassoCV().fit(X, y)\n",
    "# importance = np.abs(clf.coef_)\n",
    "# idx_third = importance.argsort()[-3]\n",
    "# threshold = importance[idx_third] + 0.01\n",
    "\n",
    "# idx_features = (-importance).argsort()[:2]\n",
    "# # name_features = np.array(feature_names)[idx_features]\n",
    "# print('Selected features: {}'.format(idx_features))\n",
    "\n",
    "# sfm = SelectFromModel(clf, threshold=threshold)\n",
    "# sfm.fit(X, y)\n",
    "# X_transform = sfm.transform(X)\n",
    "\n",
    "# n_features = sfm.transform(X).shape[1]"
   ]
  },
  {
   "cell_type": "code",
   "execution_count": 33,
   "metadata": {},
   "outputs": [
    {
     "name": "stderr",
     "output_type": "stream",
     "text": [
      "c:\\ProgramData\\miniconda3\\envs\\dsci\\Lib\\site-packages\\sklearn\\model_selection\\_split.py:700: UserWarning: The least populated class in y has only 3 members, which is less than n_splits=5.\n",
      "  warnings.warn(\n"
     ]
    },
    {
     "data": {
      "text/plain": [
       "array([0.1       , 0.73333333, 0.73333333, 0.7       , 0.7       ])"
      ]
     },
     "execution_count": 33,
     "metadata": {},
     "output_type": "execute_result"
    }
   ],
   "source": [
    "\n",
    "# knn = KNeighborsClassifier(7, p=3000, weights='distance',n_jobs = -1)\n",
    "# knn.fit( MinMaxScaler(feature_range=(0, 1)).fit_transform(train.values), target.values)\n",
    "knn = Pipeline(\n",
    "    [\n",
    "        (\"Scaler\", MinMaxScaler(feature_range=(0, 1))),\n",
    "        (\"KNN\", KNeighborsClassifier(11, p=3000, weights='distance',n_jobs = -1)),\n",
    "    ]\n",
    ")\n",
    "# score = cross_val_score(knn, MinMaxScaler(feature_range=(0, 1)).fit_transform(X), y, cv=3)\n",
    "score = cross_val_score(knn, X, y, cv=5)\n",
    "score"
   ]
  },
  {
   "cell_type": "code",
   "execution_count": null,
   "metadata": {},
   "outputs": [],
   "source": []
  }
 ],
 "metadata": {
  "kernelspec": {
   "display_name": "dsci",
   "language": "python",
   "name": "python3"
  },
  "language_info": {
   "codemirror_mode": {
    "name": "ipython",
    "version": 3
   },
   "file_extension": ".py",
   "mimetype": "text/x-python",
   "name": "python",
   "nbconvert_exporter": "python",
   "pygments_lexer": "ipython3",
   "version": "3.11.4"
  },
  "orig_nbformat": 4
 },
 "nbformat": 4,
 "nbformat_minor": 2
}
