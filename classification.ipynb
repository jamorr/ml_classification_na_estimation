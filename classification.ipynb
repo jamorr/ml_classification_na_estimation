{
 "cells": [
  {
   "cell_type": "markdown",
   "metadata": {},
   "source": [
    "# 1 3 5 - Jack\n",
    "# 2 4 - Jayden\n",
    "Explain why we chose a given algorithm not how the algorithm works"
   ]
  },
  {
   "cell_type": "code",
   "execution_count": 1,
   "metadata": {},
   "outputs": [],
   "source": [
    "import pandas as pd\n",
    "import numpy as np\n",
    "import seaborn as sns\n",
    "import matplotlib.pyplot as plt\n",
    "from utils import read_classification_dataset, features_histograms_mean_std\n",
    "# import sklearn\n",
    "from sklearnex import patch_sklearn\n",
    "from sklearn.calibration import LinearSVC\n",
    "from sklearn.ensemble import RandomForestClassifier\n",
    "from sklearn.feature_selection import SelectFromModel\n",
    "from sklearn.pipeline import Pipeline\n",
    "from sklearn.metrics import classification_report\n",
    "from sklearn.neighbors import KNeighborsClassifier\n",
    "from sklearn.preprocessing import MinMaxScaler, StandardScaler\n",
    "from sklearn.model_selection import cross_val_score\n",
    "from sklearn.experimental import enable_iterative_imputer\n",
    "from sklearn.impute import IterativeImputer, SimpleImputer, KNNImputer"
   ]
  },
  {
   "cell_type": "code",
   "execution_count": 2,
   "metadata": {},
   "outputs": [
    {
     "name": "stderr",
     "output_type": "stream",
     "text": [
      "Intel(R) Extension for Scikit-learn* enabled (https://github.com/intel/scikit-learn-intelex)\n"
     ]
    }
   ],
   "source": [
    "patch_sklearn()"
   ]
  },
  {
   "cell_type": "code",
   "execution_count": 5,
   "metadata": {},
   "outputs": [
    {
     "name": "stdout",
     "output_type": "stream",
     "text": [
      "c:\\Users\\Morri\\Documents\\Notebooks\\ML\\Project\n"
     ]
    },
    {
     "data": {
      "text/plain": [
       "array([1, 2, 4, 3, 5], dtype=int64)"
      ]
     },
     "execution_count": 5,
     "metadata": {},
     "output_type": "execute_result"
    }
   ],
   "source": [
    "train, target, test = read_classification_dataset(1)\n",
    "target.iloc[:,0].unique()"
   ]
  },
  {
   "cell_type": "code",
   "execution_count": 7,
   "metadata": {},
   "outputs": [
    {
     "data": {
      "image/png": "[encoded data removed]",
      "text/plain": [
       "<Figure size 1000x1000 with 2 Axes>"
      ]
     },
     "metadata": {},
     "output_type": "display_data"
    }
   ],
   "source": [
    "train.mean(axis=1)\n",
    "features_histograms_mean_std(train.T)\n",
    "\n",
    "StandardScaler()\n"
   ]
  },
  {
   "cell_type": "code",
   "execution_count": 4,
   "metadata": {},
   "outputs": [
    {
     "ename": "",
     "evalue": "",
     "output_type": "error",
     "traceback": [
      "\u001b[1;31mThe Kernel crashed while executing code in the the current cell or a previous cell. Please review the code in the cell(s) to identify a possible cause of the failure. Click <a href='https://aka.ms/vscodeJupyterKernelCrash'>here</a> for more info. View Jupyter <a href='command:jupyter.viewOutput'>log</a> for further details."
     ]
    }
   ],
   "source": [
    "\n",
    "from sklearn.cluster import SpectralCoclustering\n",
    "from sklearn.datasets import make_biclusters\n",
    "from sklearn.metrics import consensus_score\n",
    "\n",
    "\n",
    "train, target, test = read_classification_dataset(2)\n",
    "X = train.values\n",
    "imputer = KNNImputer(n_neighbors=3, weights='distance')\n",
    "data = imputer.fit_transform(X)\n",
    "plt.matshow(data, cmap=plt.cm.Blues)\n",
    "plt.title(\"Original dataset\")\n",
    "\n",
    "model = SpectralCoclustering(n_clusters=50, random_state=0, svd_method='randomized', mini_batch = True)\n",
    "model.fit(data)\n",
    "assert False\n",
    "# score = consensus_score(model.biclusters_, (rows[:, row_idx], columns[:, col_idx]))\n",
    "\n",
    "# print(\"consensus score: {:.3f}\".format(score))\n",
    "\n",
    "fit_data = data[np.argsort(model.row_labels_)]\n",
    "fit_data = fit_data[:, np.argsort(model.column_labels_)]\n",
    "\n",
    "plt.matshow(fit_data, cmap=plt.cm.Blues)\n",
    "plt.title(\"After biclustering; rearranged to show biclusters\")\n",
    "\n",
    "plt.show()"
   ]
  },
  {
   "cell_type": "code",
   "execution_count": 5,
   "metadata": {},
   "outputs": [
    {
     "name": "stderr",
     "output_type": "stream",
     "text": [
      "c:\\Users\\Morri\\Documents\\Notebooks\\ML\\.venv\\Lib\\site-packages\\sklearn\\model_selection\\_split.py:737: UserWarning: The least populated class in y has only 3 members, which is less than n_splits=5.\n",
      "  warnings.warn(\n"
     ]
    },
    {
     "name": "stdout",
     "output_type": "stream",
     "text": [
      "dataset 1 weighted F1 score 5 fold cv:  [1.         0.96866002 0.89555556 0.91262626 0.9503876 ]\n",
      "dataset 2 weighted F1 score 5 fold cv:  [0.93       0.89666667 0.84666667 0.58666667 0.83333333]\n",
      "dataset 3 weighted F1 score 5 fold cv:  [0.27879944 0.25214527 0.28124662 0.27397405 0.26759597]\n",
      "dataset 4 weighted F1 score 5 fold cv:  [0.8001186  0.65752045 0.64975154 0.56101407 0.42992551]\n",
      "dataset 5 weighted F1 score 5 fold cv:  [0.41752807 0.49388537 0.51068452 0.49077729 0.52656167]\n"
     ]
    },
    {
     "data": {
      "text/plain": [
       "[array([2, 1, 1, 1, 1, 2, 1, 1, 3, 1, 3, 1, 1, 1, 4, 1, 1, 1, 1, 1, 1, 4,\n",
       "        3, 3, 4, 1, 5, 4, 1, 3, 1, 1, 4, 1, 1, 1, 1, 4, 3, 5, 1, 1, 4, 1,\n",
       "        1, 1, 1, 1, 1, 1, 1, 1, 1], dtype=int64),\n",
       " array([ 3, 11,  2,  4,  8,  8,  8,  8,  4,  8, 10, 11,  1,  1, 10,  8,  6,\n",
       "         3,  8,  9,  4,  4,  4,  4,  4,  4,  4,  4,  4,  4, 10, 11, 10, 11,\n",
       "         4, 10, 11,  3,  3,  3,  3,  3,  3,  3,  2,  8,  1,  1,  1,  1,  1,\n",
       "         1,  1,  1,  1,  1,  1,  1,  1,  1,  8,  8,  8,  8,  8,  8,  8,  8,\n",
       "        11,  8, 10,  8,  8,  8], dtype=int64),\n",
       " array([7, 8, 1, ..., 2, 7, 4], dtype=int64),\n",
       " array([1, 1, 1, ..., 8, 8, 8], dtype=int64),\n",
       " array([5, 5, 5, 6, 5, 6, 5, 5, 6, 5, 5, 5, 7, 5, 5, 5, 5, 5, 5, 7, 6, 5,\n",
       "        6, 5, 5, 5, 5, 6, 5, 5, 5, 5, 5, 5, 5, 6, 5, 6, 5, 5, 5, 5, 6, 5,\n",
       "        5, 5, 6, 6, 5, 5, 5, 6, 5, 6, 6, 5, 5, 5, 5, 5, 6, 5, 6, 6, 5, 5,\n",
       "        6, 7, 6, 5, 6, 6, 5, 6, 6, 6, 5, 7, 6, 5, 3, 6, 6, 6, 7, 5, 6, 6,\n",
       "        6, 6, 5, 6, 5, 7, 5, 6, 6, 7, 6, 6, 5, 8, 5, 6, 5, 7, 6, 7, 7, 7,\n",
       "        6, 5, 5, 5, 5, 5, 5, 6, 5, 5, 6, 5, 5, 6, 7, 5, 6, 6, 6, 7, 6, 5,\n",
       "        6, 6, 5, 6, 7, 6, 7, 6, 6, 5, 6, 6, 7, 7, 7, 6, 4, 7, 5, 6, 6, 6,\n",
       "        5, 6, 6, 6, 7, 8, 6, 6, 6, 6, 4, 5, 5, 5, 5, 6, 6, 6, 6, 7, 5, 5,\n",
       "        5, 5, 6, 7, 6, 5, 6, 5, 6, 7, 6, 6, 5, 5, 6, 5, 5, 6, 6, 6, 5, 5,\n",
       "        5, 6, 5, 5, 5, 5, 6, 5, 6, 5, 5, 4, 5, 6, 6, 5, 5, 5, 5, 6, 6, 6,\n",
       "        5, 6, 5, 6, 6, 6, 5, 6, 5, 5, 5, 6, 5, 6, 5, 5, 6, 5, 6, 5, 5, 5,\n",
       "        5, 6, 7, 6, 5, 5, 6, 6, 6, 5, 6, 6, 6, 5, 6, 5, 5, 6, 5, 7, 6, 5,\n",
       "        7, 5, 6, 6, 6, 6, 6, 6, 6, 6, 6, 5, 5, 5, 7, 7, 6, 7, 5, 5, 7, 5,\n",
       "        7, 6, 6, 6, 7, 6, 6, 5, 6, 5, 6, 7, 5, 5, 5, 6, 6, 7, 7, 7, 7, 7,\n",
       "        7, 5, 6, 7, 6, 6, 5, 6, 6, 6, 7, 6, 5, 6, 7, 7, 4, 5, 6, 7, 6, 6,\n",
       "        7, 6, 5, 5, 6, 7, 6, 7, 7, 7, 6, 5, 6, 6, 6, 6, 5, 6, 6, 6, 6, 7,\n",
       "        6, 5, 5, 6, 7, 5, 5, 5, 6, 6, 6, 6, 6, 6, 6, 6, 6, 6, 7, 5, 5, 5,\n",
       "        6, 7, 5, 5, 6, 5, 6, 5, 6, 5, 6, 6, 5, 5, 5, 6, 5, 6, 7, 6, 5, 5,\n",
       "        5, 6, 6, 6, 5, 7, 6, 6, 5, 6, 5, 5, 5, 5, 5, 5, 6, 7, 6, 5, 5, 5,\n",
       "        6, 5, 6, 6, 8, 6, 6, 6, 5, 5, 5, 6, 6, 6, 5, 6, 8, 6, 6, 6, 6, 8,\n",
       "        6, 7, 3, 6, 6, 5, 5, 7, 5, 7, 7, 6, 7, 6, 6, 7, 6, 5, 6, 6, 6, 6,\n",
       "        6, 6, 6, 5, 5, 6, 6, 5, 5, 7, 6, 5, 6, 6, 6, 6, 6, 5], dtype=int64)]"
      ]
     },
     "execution_count": 5,
     "metadata": {},
     "output_type": "execute_result"
    }
   ],
   "source": [
    "# KNN Scores\n",
    "knn = Pipeline(\n",
    "    [\n",
    "        ('Imputer', KNNImputer(n_neighbors=3, weights='distance')),\n",
    "        ('Scaler', MinMaxScaler(feature_range=(0, 1))),\n",
    "        ('KNN', KNeighborsClassifier(3, weights='distance',)),\n",
    "    ]\n",
    ")\n",
    "def test_model_on_all_data(model, data:list=list(range(1,6))):\n",
    "    predicitons = []\n",
    "    for i in data:\n",
    "        try:\n",
    "            train, target, test = read_classification_dataset(i)\n",
    "            X, y = train.values, target.values.flatten()\n",
    "            score = cross_val_score(model, X, y,scoring='f1_weighted', cv=5)\n",
    "            print(f\"dataset {i} weighted F1 score 5 fold cv: \",score)\n",
    "            predicitons.append(model.fit(train, np.ravel(target)).predict(test.values))\n",
    "        except ValueError as e:\n",
    "            print(e)\n",
    "    return predicitons\n",
    "\n",
    "def test_model_on_data(model, data_set_number:int):\n",
    "    try:\n",
    "        train, target, test = read_classification_dataset(i)\n",
    "        X, y = train.values, target.values.flatten()\n",
    "        score = cross_val_score(model, X, y,scoring='f1_weighted', cv=5)\n",
    "        print(f\"dataset {i} weighted F1 score 5 fold cv: \",score)\n",
    "        predicitons = model.fit(train, np.ravel(target)).predict(test.values)\n",
    "        return predicitons\n",
    "\n",
    "    except ValueError as e:\n",
    "        print(e)\n",
    "\n",
    "test_model_on_all_data(knn)\n",
    "\n",
    "    # else:\n",
    "    #     display(train.dtypes)\n",
    "    #     display(train.head())"
   ]
  },
  {
   "cell_type": "code",
   "execution_count": 40,
   "metadata": {},
   "outputs": [
    {
     "data": {
      "image/png": "[encoded data removed]",
      "text/plain": [
       "<Figure size 1000x1000 with 2 Axes>"
      ]
     },
     "metadata": {},
     "output_type": "display_data"
    }
   ],
   "source": [
    "features_histograms_mean_std(train)"
   ]
  },
  {
   "cell_type": "code",
   "execution_count": 41,
   "metadata": {},
   "outputs": [
    {
     "name": "stdout",
     "output_type": "stream",
     "text": [
      "Missing value count: 9936\n",
      "Number of categories: 5\n"
     ]
    }
   ],
   "source": [
    "print(\"Missing value count:\",  train.isna().sum().sum())\n",
    "print(\"Number of categories:\",(len(target[0].unique())))"
   ]
  },
  {
   "cell_type": "code",
   "execution_count": 42,
   "metadata": {},
   "outputs": [],
   "source": [
    "# from sklearn.model_selection import train_test_split\n",
    "# from sklearn.preprocessing import scale\n",
    "# from sklearn.decomposition import PCA\n",
    "# train_test_split\n",
    "\n",
    "# n=150\n",
    "# # do PCA dim reduction to 5\n",
    "# pca = PCA(n_components=n)\n",
    "# pca_evr = pca.fit(scale(train))\n",
    "\n",
    "# pca_evr = (pca.explained_variance_ratio_)\n",
    "\n",
    "\n",
    "\n",
    "# pca_evr = np.concatenate((np.zeros(1), pca_evr))\n",
    "# plt.plot(list(range(n+1)),np.cumsum(pca_evr), color = 'black')\n",
    "# plt.xlabel('Number of components')\n",
    "# plt.ylabel('Cumulative explained variance')\n",
    "# plt.title(\"PCA - Cumulative Explained Variance Ratio\")\n",
    "# plt.grid()\n",
    "# print(np.cumsum(pca_evr))"
   ]
  },
  {
   "cell_type": "code",
   "execution_count": 49,
   "metadata": {},
   "outputs": [
    {
     "name": "stderr",
     "output_type": "stream",
     "text": [
      "c:\\ProgramData\\miniconda3\\envs\\dsci\\Lib\\site-packages\\sklearn\\model_selection\\_split.py:700: UserWarning: The least populated class in y has only 3 members, which is less than n_splits=5.\n",
      "  warnings.warn(\n"
     ]
    },
    {
     "data": {
      "text/plain": [
       "array([0.82222222, 0.9637037 , 0.847343  , 0.85333333, 0.9503876 ])"
      ]
     },
     "execution_count": 49,
     "metadata": {},
     "output_type": "execute_result"
    }
   ],
   "source": [
    "# raise KeyError\n",
    "clf = Pipeline([\n",
    "  ('imputation', KNNImputer(n_neighbors=3, weights='distance')),\n",
    "  ('classification', RandomForestClassifier())\n",
    "])\n",
    "# clf.fit(train.values, target.values.flatten())\n",
    "# Test Random Forest\n",
    "scores = cross_val_score(clf, X, y, scoring='f1_weighted',  cv=5)\n",
    "scores\n"
   ]
  },
  {
   "cell_type": "code",
   "execution_count": 44,
   "metadata": {},
   "outputs": [],
   "source": [
    "# clf = LassoCV().fit(X, y)\n",
    "# importance = np.abs(clf.coef_)\n",
    "# idx_third = importance.argsort()[-3]\n",
    "# threshold = importance[idx_third] + 0.01\n",
    "\n",
    "# idx_features = (-importance).argsort()[:2]\n",
    "# # name_features = np.array(feature_names)[idx_features]\n",
    "# print('Selected features: {}'.format(idx_features))\n",
    "\n",
    "# sfm = SelectFromModel(clf, threshold=threshold)\n",
    "# sfm.fit(X, y)\n",
    "# X_transform = sfm.transform(X)\n",
    "\n",
    "# n_features = sfm.transform(X).shape[1]"
   ]
  },
  {
   "cell_type": "code",
   "execution_count": 50,
   "metadata": {},
   "outputs": [
    {
     "name": "stderr",
     "output_type": "stream",
     "text": [
      "c:\\ProgramData\\miniconda3\\envs\\dsci\\Lib\\site-packages\\sklearn\\model_selection\\_split.py:700: UserWarning: The least populated class in y has only 3 members, which is less than n_splits=5.\n",
      "  warnings.warn(\n"
     ]
    },
    {
     "data": {
      "text/plain": [
       "array([1.        , 0.96866002, 0.89555556, 0.91262626, 0.9503876 ])"
      ]
     },
     "execution_count": 50,
     "metadata": {},
     "output_type": "execute_result"
    }
   ],
   "source": [
    "# knn = KNeighborsClassifier(7, p=3000, weights='distance',n_jobs = -1)\n",
    "# knn.fit( MinMaxScaler(feature_range=(0, 1)).fit_transform(train.values), target.values)\n",
    "knn = Pipeline(\n",
    "    [\n",
    "        ('Imputer', KNNImputer(n_neighbors=3, weights='distance')),\n",
    "        ('Scaler', MinMaxScaler(feature_range=(0, 1))),\n",
    "        ('KNN', KNeighborsClassifier(3, weights='distance',)),\n",
    "    ]\n",
    ")\n",
    "\n",
    "# score = cross_val_score(knn, MinMaxScaler(feature_range=(0, 1)).fit_transform(X), y, cv=3)\n",
    "score = cross_val_score(knn, X, y,scoring='f1_weighted', cv=5)\n",
    "score"
   ]
  },
  {
   "cell_type": "code",
   "execution_count": 1,
   "metadata": {},
   "outputs": [
    {
     "ename": "NameError",
     "evalue": "name 'read_classification_dataset' is not defined",
     "output_type": "error",
     "traceback": [
      "\u001b[1;31m---------------------------------------------------------------------------\u001b[0m",
      "\u001b[1;31mNameError\u001b[0m                                 Traceback (most recent call last)",
      "\u001b[1;32mc:\\Users\\Morri\\Documents\\Notebooks\\ML\\Project\\classification.ipynb Cell 11\u001b[0m line \u001b[0;36m6\n\u001b[0;32m      <a href='vscode-notebook-cell:/c%3A/Users/Morri/Documents/Notebooks/ML/Project/classification.ipynb#X13sZmlsZQ%3D%3D?line=1'>2</a>\u001b[0m \u001b[39mfrom\u001b[39;00m \u001b[39msklearn\u001b[39;00m\u001b[39m.\u001b[39;00m\u001b[39mdatasets\u001b[39;00m \u001b[39mimport\u001b[39;00m make_biclusters\n\u001b[0;32m      <a href='vscode-notebook-cell:/c%3A/Users/Morri/Documents/Notebooks/ML/Project/classification.ipynb#X13sZmlsZQ%3D%3D?line=2'>3</a>\u001b[0m \u001b[39mfrom\u001b[39;00m \u001b[39msklearn\u001b[39;00m\u001b[39m.\u001b[39;00m\u001b[39mmetrics\u001b[39;00m \u001b[39mimport\u001b[39;00m consensus_score\n\u001b[1;32m----> <a href='vscode-notebook-cell:/c%3A/Users/Morri/Documents/Notebooks/ML/Project/classification.ipynb#X13sZmlsZQ%3D%3D?line=5'>6</a>\u001b[0m train, target, test \u001b[39m=\u001b[39m read_classification_dataset(\u001b[39m2\u001b[39m)\n\u001b[0;32m      <a href='vscode-notebook-cell:/c%3A/Users/Morri/Documents/Notebooks/ML/Project/classification.ipynb#X13sZmlsZQ%3D%3D?line=6'>7</a>\u001b[0m X, y \u001b[39m=\u001b[39m train\u001b[39m.\u001b[39mvalues, target\u001b[39m.\u001b[39mvalues\u001b[39m.\u001b[39mflatten()\n\u001b[0;32m      <a href='vscode-notebook-cell:/c%3A/Users/Morri/Documents/Notebooks/ML/Project/classification.ipynb#X13sZmlsZQ%3D%3D?line=7'>8</a>\u001b[0m imputer \u001b[39m=\u001b[39m KNNImputer(n_neighbors\u001b[39m=\u001b[39m\u001b[39m3\u001b[39m, weights\u001b[39m=\u001b[39m\u001b[39m'\u001b[39m\u001b[39mdistance\u001b[39m\u001b[39m'\u001b[39m)\n",
      "\u001b[1;31mNameError\u001b[0m: name 'read_classification_dataset' is not defined"
     ]
    }
   ],
   "source": []
  }
 ],
 "metadata": {
  "kernelspec": {
   "display_name": "dsci",
   "language": "python",
   "name": "python3"
  },
  "language_info": {
   "codemirror_mode": {
    "name": "ipython",
    "version": 3
   },
   "file_extension": ".py",
   "mimetype": "text/x-python",
   "name": "python",
   "nbconvert_exporter": "python",
   "pygments_lexer": "ipython3",
   "version": "3.11.4"
  },
  "orig_nbformat": 4
 },
 "nbformat": 4,
 "nbformat_minor": 2
}
