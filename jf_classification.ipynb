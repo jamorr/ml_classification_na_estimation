{
 "cells": [
  {
   "cell_type": "markdown",
   "metadata": {},
   "source": [
    "# 2 4 - Jayden"
   ]
  },
  {
   "cell_type": "code",
   "execution_count": 17,
   "metadata": {},
   "outputs": [
    {
     "name": "stdout",
     "output_type": "stream",
     "text": [
      "Mean Score: 0.88\n",
      "Standard Deviation of Scores: 0.06\n"
     ]
    }
   ],
   "source": [
    "import pandas as pd\n",
    "import sklearn as sk\n",
    "from sklearn.decomposition import PCA\n",
    "from sklearn.svm import SVC\n",
    "from sklearn.model_selection import KFold, cross_val_score,GridSearchCV\n",
    "from sklearn.neighbors import KNeighborsClassifier\n",
    "from sklearn.ensemble import RandomForestClassifier\n",
    "from sklearn.linear_model import Lasso\n",
    "import utils as ut\n",
    "\n",
    "\n",
    "\n",
    "#Seed for randomness in cross-validation\n",
    "\n",
    "train2, target2, test2 = ut.read_classification_dataset(2)\n",
    "\n",
    "k = 10\n",
    "seed = 10\n",
    "kf = KFold(n_splits=k, shuffle=True, random_state=seed)\n",
    "\n",
    "#This was the best performing SVM after messing around with different parameters\n",
    "svr = SVC(kernel='linear',gamma=0.9)\n",
    "\n",
    "def pcareduce(data:pd.DataFrame):\n",
    "\n",
    "    pca = PCA(n_components=10)\n",
    "    pca.fit(train2)\n",
    "    return pd.DataFrame(pca.transform(train2))\n",
    "train2_reduced = pcareduce(train2)\n",
    "test2_reduced = pcareduce(test2)\n",
    "\n",
    "\n",
    "sk.metrics.get_scorer_names()\n",
    "scores = cross_val_score(svr, train2_reduced, target2.values.ravel(), cv=kf, scoring='accuracy')\n",
    "\n",
    "\n",
    "mean_score = scores.mean()\n",
    "std_score = scores.std()\n",
    "print(f\"Mean Score: {mean_score:.2f}\")\n",
    "print(f\"Standard Deviation of Scores: {std_score:.2f}\")"
   ]
  },
  {
   "cell_type": "markdown",
   "metadata": {},
   "source": [
    "**Start of Data 4**"
   ]
  },
  {
   "cell_type": "markdown",
   "metadata": {},
   "source": [
    "KNN"
   ]
  },
  {
   "cell_type": "code",
   "execution_count": 7,
   "metadata": {},
   "outputs": [
    {
     "name": "stdout",
     "output_type": "stream",
     "text": [
      "Mean Score: 0.74\n",
      "Standard Deviation of Scores: 0.04\n"
     ]
    }
   ],
   "source": [
    "train4, target4, test4 = ut.read_classification_dataset(4)\n",
    "\n",
    "train4.isna().sum().sum()\n",
    "\n",
    "\n",
    "# svc4 = SVC(kernel='linear',gamma=0.9)\n",
    "knnr = KNeighborsClassifier(n_neighbors=5,weights='distance')\n",
    "k = 10\n",
    "kf = KFold(n_splits=k,shuffle=True,random_state=42)\n",
    "\n",
    "\n",
    "\n",
    "scores = cross_val_score(knnr,train4,target4.values.ravel(),cv=kf,scoring='accuracy')\n",
    "\n",
    "print(f\"Mean Score: {scores.mean():.2f}\")\n",
    "print(f\"Standard Deviation of Scores: {scores.std():.2f}\")\n"
   ]
  },
  {
   "cell_type": "markdown",
   "metadata": {},
   "source": [
    "Random Forest"
   ]
  },
  {
   "cell_type": "code",
   "execution_count": 65,
   "metadata": {},
   "outputs": [
    {
     "name": "stdout",
     "output_type": "stream",
     "text": [
      "RandomForestClassifier(max_depth=5)\n",
      "n_estimators 100\n",
      "F1 Score: 0.73\n",
      "Standard Deviation of Scores: 0.12\n"
     ]
    }
   ],
   "source": [
    "forest = RandomForestClassifier()\n",
    "#This takes a long time, all the ones commented out were not important\n",
    "rf_params = {\n",
    "\"n_estimators\":[5,10,20,50,100],\n",
    "# \"n_estimators\":[10,50,100,200,500],\n",
    "\"max_depth\":[1,2,3,4,5],\n",
    "# \"min_samples_split\":[2,5,10],\n",
    "# \"min_samples_leaf\":[1,2,4],\n",
    "# \"max_features\":['auto','sqrt','log2',None],\n",
    "# \"bootstrap\":[True,False]\n",
    "\n",
    "}\n",
    "\n",
    "gsvc = GridSearchCV(estimator=forest,param_grid=rf_params,cv=5,scoring='f1_weighted')\n",
    "gsvc.fit(train4,target4.values.ravel())\n",
    "\n",
    "forest_optimized = gsvc.best_estimator_\n",
    "\n",
    "print(forest_optimized)\n",
    "print(\"n_estimators\",forest_optimized.n_estimators)\n",
    "\n",
    "scores = cross_val_score(forest_optimized,train4,target4.values.ravel(),cv=10,scoring='f1_weighted')\n",
    "\n",
    "print(f\"F1 Score: {scores.mean():.2f}\")\n",
    "print(f\"Standard Deviation of Scores: {scores.std():.2f}\")"
   ]
  },
  {
   "cell_type": "code",
   "execution_count": 80,
   "metadata": {},
   "outputs": [
    {
     "name": "stdout",
     "output_type": "stream",
     "text": [
      "Mean Score: 0.71\n",
      "Standard Deviation of Scores: 0.14\n"
     ]
    }
   ],
   "source": [
    "forest = RandomForestClassifier(n_estimators=50,max_depth=5)\n",
    "\n",
    "scores = cross_val_score(forest,train4,target4.values.ravel(),cv=10,scoring='f1_weighted')\n",
    "\n",
    "print(f\"Mean Score: {scores.mean():.2f}\")\n",
    "print(f\"Standard Deviation of Scores: {scores.std():.2f}\")"
   ]
  },
  {
   "cell_type": "markdown",
   "metadata": {},
   "source": [
    "LASSO Regression"
   ]
  },
  {
   "cell_type": "code",
   "execution_count": 90,
   "metadata": {},
   "outputs": [
    {
     "name": "stdout",
     "output_type": "stream",
     "text": [
      "Lasso(alpha=199)\n",
      "Mean R Squared Score: -0.14\n",
      "Standard Deviation of Scores: 0.23\n"
     ]
    }
   ],
   "source": [
    "lasso = Lasso()\n",
    "\n",
    "params = {\n",
    "'alpha': [*range(1,200)]\n",
    "}\n",
    "\n",
    "# score = \"neg_mean_squared_error\"\n",
    "score = \"r2\"\n",
    "gscv = GridSearchCV(estimator=lasso,param_grid=params,scoring=score,cv=10)\n",
    "\n",
    "gscv.fit(train4,target4.values.ravel())\n",
    "lasso2=gscv.best_estimator_\n",
    "print(lasso2)\n",
    "# 'neg_mean_squared_error'\n",
    "scores = cross_val_score(lasso2,train2_reduced,target2.values.ravel(),cv=kf,scoring=score)\n",
    "\n",
    "print(f\"Mean R Squared Score: {scores.mean():.2f}\")\n",
    "print(f\"Standard Deviation of Scores: {scores.std():.2f}\")"
   ]
  },
  {
   "cell_type": "code",
   "execution_count": null,
   "metadata": {},
   "outputs": [],
   "source": []
  }
 ],
 "metadata": {
  "kernelspec": {
   "display_name": "Python 3",
   "language": "python",
   "name": "python3"
  },
  "language_info": {
   "codemirror_mode": {
    "name": "ipython",
    "version": 3
   },
   "file_extension": ".py",
   "mimetype": "text/x-python",
   "name": "python",
   "nbconvert_exporter": "python",
   "pygments_lexer": "ipython3",
   "version": "3.11.5"
  }
 },
 "nbformat": 4,
 "nbformat_minor": 2
}
