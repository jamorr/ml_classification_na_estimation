{
 "cells": [
  {
   "cell_type": "markdown",
   "metadata": {},
   "source": [
    "# 2 4 - Jayden"
   ]
  },
  {
   "cell_type": "code",
   "execution_count": 1,
   "metadata": {},
   "outputs": [
    {
     "name": "stdout",
     "output_type": "stream",
     "text": [
      "Mean Score: 0.88\n",
      "Standard Deviation of Scores: 0.06\n"
     ]
    }
   ],
   "source": [
    "import pandas as pd\n",
    "import sklearn as sk\n",
    "from sklearn.decomposition import PCA\n",
    "from sklearn.svm import SVC\n",
    "from sklearn.model_selection import KFold, cross_val_score\n",
    "from sklearn.neighbors import KNeighborsClassifier\n",
    "from sklearn.ensemble import RandomForestClassifier\n",
    "from sklearn.linear_model import Lasso\n",
    "from utils import read_classification_dataset\n",
    "\n",
    "\n",
    "\n",
    "#Seed for randomness in cross-validation\n",
    "\n",
    "train2, target2, test2 = read_classification_dataset(2)\n",
    "\n",
    "k = 10\n",
    "seed = 10\n",
    "kf = KFold(n_splits=k, shuffle=True, random_state=seed)\n",
    "\n",
    "#This was the best performing SVM after messing around with different parameters\n",
    "svr = SVC(kernel='linear',gamma=0.9)\n",
    "\n",
    "def pcareduce(data:pd.DataFrame):\n",
    "\n",
    "    pca = PCA(n_components=10)\n",
    "    pca.fit(train2)\n",
    "    return pd.DataFrame(pca.transform(train2))\n",
    "train2_reduced = pcareduce(train2)\n",
    "test2_reduced = pcareduce(test2)\n",
    "\n",
    "\n",
    "sk.metrics.get_scorer_names()\n",
    "scores = cross_val_score(svr, train2_reduced, target2.values.ravel(), cv=kf, scoring='accuracy')\n",
    "\n",
    "\n",
    "mean_score = scores.mean()\n",
    "std_score = scores.std()\n",
    "print(f\"Mean Score: {mean_score:.2f}\")\n",
    "print(f\"Standard Deviation of Scores: {std_score:.2f}\")"
   ]
  },
  {
   "cell_type": "markdown",
   "metadata": {},
   "source": [
    "**Start of Data 4**"
   ]
  },
  {
   "cell_type": "markdown",
   "metadata": {},
   "source": [
    "KNN"
   ]
  },
  {
   "cell_type": "code",
   "execution_count": 2,
   "metadata": {},
   "outputs": [
    {
     "name": "stdout",
     "output_type": "stream",
     "text": [
      "Mean Score: 0.74\n",
      "Standard Deviation of Scores: 0.04\n"
     ]
    }
   ],
   "source": [
    "train4, target4, test4 = read_classification_dataset(4)\n",
    "\n",
    "train4.isna().sum().sum()\n",
    "\n",
    "\n",
    "# svc4 = SVC(kernel='linear',gamma=0.9)\n",
    "knnr = KNeighborsClassifier(n_neighbors=5,weights='distance')\n",
    "k = 10\n",
    "kf = KFold(n_splits=k,shuffle=True,random_state=42)\n",
    "\n",
    "\n",
    "\n",
    "scores = cross_val_score(knnr,train4,target4.values.ravel(),cv=kf,scoring='accuracy')\n",
    "\n",
    "print(f\"Mean Score: {scores.mean():.2f}\")\n",
    "print(f\"Standard Deviation of Scores: {scores.std():.2f}\")\n"
   ]
  },
  {
   "cell_type": "markdown",
   "metadata": {},
   "source": [
    "Random Forest"
   ]
  },
  {
   "cell_type": "code",
   "execution_count": 3,
   "metadata": {},
   "outputs": [
    {
     "name": "stdout",
     "output_type": "stream",
     "text": [
      "Mean Score: 0.87\n",
      "Standard Deviation of Scores: 0.03\n"
     ]
    }
   ],
   "source": [
    "forest = RandomForestClassifier(n_estimators=50,max_depth=5)\n",
    "\n",
    "scores = cross_val_score(forest,train4,target4.values.ravel(),cv=kf,scoring='accuracy')\n",
    "\n",
    "print(f\"Mean Score: {scores.mean():.2f}\")\n",
    "print(f\"Standard Deviation of Scores: {scores.std():.2f}\")"
   ]
  },
  {
   "cell_type": "markdown",
   "metadata": {},
   "source": [
    "LASSO Regression"
   ]
  },
  {
   "cell_type": "code",
   "execution_count": 5,
   "metadata": {},
   "outputs": [
    {
     "name": "stdout",
     "output_type": "stream",
     "text": [
      "Mean R Squared Score: 0.57\n",
      "Standard Deviation of Scores: 0.05\n"
     ]
    }
   ],
   "source": [
    "lasso = Lasso(alpha=0.5)\n",
    "\n",
    "scores = cross_val_score(lasso,train4,target4.values.ravel(),cv=kf,scoring='r2')\n",
    "\n",
    "print(f\"Mean R Squared Score: {scores.mean():.2f}\")\n",
    "print(f\"Standard Deviation of Scores: {scores.std():.2f}\")"
   ]
  }
 ],
 "metadata": {
  "kernelspec": {
   "display_name": "Python 3",
   "language": "python",
   "name": "python3"
  },
  "language_info": {
   "codemirror_mode": {
    "name": "ipython",
    "version": 3
   },
   "file_extension": ".py",
   "mimetype": "text/x-python",
   "name": "python",
   "nbconvert_exporter": "python",
   "pygments_lexer": "ipython3",
   "version": "3.11.5"
  }
 },
 "nbformat": 4,
 "nbformat_minor": 2
}
